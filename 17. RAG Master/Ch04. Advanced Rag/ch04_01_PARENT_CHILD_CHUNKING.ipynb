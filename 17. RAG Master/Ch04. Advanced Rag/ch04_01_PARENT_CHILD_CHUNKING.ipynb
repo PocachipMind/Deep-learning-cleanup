{
 "cells": [
  {
   "cell_type": "code",
   "execution_count": null,
   "id": "VxWHN9MCtJQQ",
   "metadata": {
    "id": "VxWHN9MCtJQQ"
   },
   "outputs": [],
   "source": [
    "!pip install langchain langchain_chroma langchain_openai langchain_community"
   ]
  },
  {
   "cell_type": "code",
   "execution_count": null,
   "id": "a4b00a9b",
   "metadata": {},
   "outputs": [],
   "source": [
    "from google.colab import drive\n",
    "import os\n",
    "\n",
    "# 먼저 구글 드라이브 마운트\n",
    "drive.mount('/content/drive')"
   ]
  },
  {
   "cell_type": "code",
   "execution_count": 4,
   "id": "U3aOf1kttmdQ",
   "metadata": {
    "id": "U3aOf1kttmdQ"
   },
   "outputs": [],
   "source": [
    "import os\n",
    "from dotenv import load_dotenv\n",
    "\n",
    "# .env 파일에서 환경 변수 로드\n",
    "load_dotenv()\n",
    "\n",
    "# 환경 변수에서 API 키 가져오기\n",
    "os.environ[\"OPENAI_API_KEY\"] = os.getenv(\"OPENAI_API_KEY\")\n"
   ]
  },
  {
   "cell_type": "code",
   "execution_count": 6,
   "id": "7e0vB88sTuFV",
   "metadata": {
    "id": "7e0vB88sTuFV"
   },
   "outputs": [],
   "source": [
    "from langchain_community.document_loaders import TextLoader\n",
    "\n",
    "# 문서 로더 설정\n",
    "loaders = [\n",
    "    TextLoader(\"./Data/How_to_invest_money.txt\"),\n",
    "]\n",
    "docs = []\n",
    "for loader in loaders:\n",
    "    docs.extend(loader.load())"
   ]
  },
  {
   "cell_type": "code",
   "execution_count": 9,
   "id": "7KjLyQkBgy6V",
   "metadata": {
    "id": "7KjLyQkBgy6V"
   },
   "outputs": [
    {
     "name": "stderr",
     "output_type": "stream",
     "text": [
      "C:\\Users\\User\\AppData\\Local\\Temp\\ipykernel_3584\\2016032707.py:13: LangChainDeprecationWarning: The class `Chroma` was deprecated in LangChain 0.2.9 and will be removed in 1.0. An updated version of the class exists in the :class:`~langchain-chroma package and should be used instead. To use it run `pip install -U :class:`~langchain-chroma` and import as `from :class:`~langchain_chroma import Chroma``.\n",
      "  vectorstore = Chroma(\n"
     ]
    }
   ],
   "source": [
    "from langchain.retrievers import ParentDocumentRetriever\n",
    "from langchain.storage import InMemoryStore\n",
    "from langchain_community.vectorstores import Chroma\n",
    "from langchain_openai import OpenAIEmbeddings\n",
    "from langchain_text_splitters import RecursiveCharacterTextSplitter\n",
    "\n",
    "# 부모 문서 생성을 위한 텍스트 분할기\n",
    "parent_splitter = RecursiveCharacterTextSplitter(chunk_size=1000)\n",
    "# 자식 문서 생성을 위한 텍스트 분할기 (부모보다 작은 크기로 설정)\n",
    "child_splitter = RecursiveCharacterTextSplitter(chunk_size=200)\n",
    "\n",
    "# 자식 문서 인덱싱을 위한 벡터 저장소\n",
    "vectorstore = Chroma(\n",
    "    collection_name=\"split_parents\", embedding_function=OpenAIEmbeddings()\n",
    ")\n",
    "# 부모 문서 저장을 위한 저장소\n",
    "store = InMemoryStore()"
   ]
  },
  {
   "cell_type": "code",
   "execution_count": 11,
   "id": "lWHLzLxW3wdm",
   "metadata": {
    "id": "lWHLzLxW3wdm"
   },
   "outputs": [
    {
     "name": "stdout",
     "output_type": "stream",
     "text": [
      "Number of parent documents: 219\n"
     ]
    }
   ],
   "source": [
    "# ParentDocumentRetriever 설정\n",
    "retriever = ParentDocumentRetriever(\n",
    "    vectorstore=vectorstore,\n",
    "    docstore=store,\n",
    "    child_splitter=child_splitter,\n",
    "    parent_splitter=parent_splitter,\n",
    ")\n",
    "\n",
    "# 문서 추가\n",
    "retriever.add_documents(docs)\n",
    "\n",
    "# 부모 문서 수 확인\n",
    "print(f\"Number of parent documents: {len(list(store.yield_keys()))}\")\n"
   ]
  },
  {
   "cell_type": "code",
   "execution_count": 12,
   "id": "r95fYcNwZNL9",
   "metadata": {
    "id": "r95fYcNwZNL9"
   },
   "outputs": [
    {
     "name": "stderr",
     "output_type": "stream",
     "text": [
      "C:\\Users\\User\\AppData\\Local\\Temp\\ipykernel_3584\\3495133106.py:5: LangChainDeprecationWarning: The method `BaseRetriever.get_relevant_documents` was deprecated in langchain-core 0.1.46 and will be removed in 1.0. Use :meth:`~invoke` instead.\n",
      "  retrieved_docs = retriever.get_relevant_documents(query)\n"
     ]
    },
    {
     "name": "stdout",
     "output_type": "stream",
     "text": [
      "Parent Document: There are five chief points to be considered in the selection of all\n",
      "forms of investment. These are: (1) safety of principal and interest;\n",
      "(2) rate of income; (3) convertibility into cash; (4) prospect of\n",
      "appreciation in intrinsic value; (5) stability of market price.\n",
      "\n",
      "Keeping these five general factors in mind, the present chapter will\n",
      "discuss real-estate mortgages as a form of investment, both as adapted\n",
      "to the requirements of private funds and of a business surplus.\n"
     ]
    }
   ],
   "source": [
    "# 질문 정의\n",
    "query = \"What are the types of investments?\"\n",
    "\n",
    "# 연관문서 수집\n",
    "retrieved_docs = retriever.get_relevant_documents(query)\n",
    "\n",
    "# 첫 번째 연관문서 출력\n",
    "print(f\"Parent Document: {retrieved_docs[0].page_content}\")"
   ]
  },
  {
   "cell_type": "code",
   "execution_count": 14,
   "id": "ee8f764d",
   "metadata": {},
   "outputs": [
    {
     "data": {
      "text/plain": [
       "[Document(metadata={'source': './Data/How_to_invest_money.txt'}, page_content='There are five chief points to be considered in the selection of all\\nforms of investment. These are: (1) safety of principal and interest;\\n(2) rate of income; (3) convertibility into cash; (4) prospect of\\nappreciation in intrinsic value; (5) stability of market price.\\n\\nKeeping these five general factors in mind, the present chapter will\\ndiscuss real-estate mortgages as a form of investment, both as adapted\\nto the requirements of private funds and of a business surplus.'),\n",
       " Document(metadata={'source': './Data/How_to_invest_money.txt'}, page_content='II. RAILROAD MORTGAGE BONDS              23\\n\\n    III. RAILROAD EQUIPMENT BONDS            40\\n\\n    IV. REAL-ESTATE MORTGAGES                51\\n\\n    V. INDUSTRIAL BONDS                      63\\n\\n    VI. PUBLIC-UTILITY BONDS                 76\\n\\n    VII. MUNICIPAL BONDS                     91\\n\\n    VIII. STOCKS                            100\\n\\n    IX. MARKET MOVEMENTS OF SECURITIES      108\\n\\n\\n\\n\\nPREFACE\\n\\n\\nThe aim of this book is to present in clear form the simple principles\\nof investment, and to afford the reader a working knowledge of the\\nvarious classes of securities which are available as investments and\\ntheir relative adaptability to different needs. The book is an outgrowth\\nof the writer\\'s personal experience as an investment banker. Most of the\\nmatter which is presented has appeared in the pages of \"System\"\\nMagazine, through the courtesy of whose editors it is now rearranged and\\nconsolidated for publication in book form.'),\n",
       " Document(metadata={'source': './Data/How_to_invest_money.txt'}, page_content=\"The five qualities above enumerated are present in different degrees in\\nevery investment, and the scientific investor naturally selects those\\nsecurities which possess in a high degree the qualities upon which he\\nwishes to place emphasis. A large part of the problem of investment lies\\nin the careful selection of securities to meet one's actual\\nrequirements. The average investor does not thoroughly understand this\\npoint. He does not realize that a high degree of one quality involves a\\nlower degree of other qualities. He may have a general impression that a\\nhigh rate of income is apt to indicate less assurance of safety, but he\\nrarely applies the same reasoning to other qualities. When he buys\\nsecurities, he is quite likely to pay for qualities which he does not\\nneed. It is very common, for example, when he wishes to make a permanent\\ninvestment and has no thought of reselling, to find him purchasing\\nsecurities which possess in a high degree the quality of convertibility.\")]"
      ]
     },
     "execution_count": 14,
     "metadata": {},
     "output_type": "execute_result"
    }
   ],
   "source": [
    "retrieved_docs"
   ]
  },
  {
   "cell_type": "code",
   "execution_count": 13,
   "id": "jdhSk3HKXSRY",
   "metadata": {
    "id": "jdhSk3HKXSRY"
   },
   "outputs": [
    {
     "name": "stdout",
     "output_type": "stream",
     "text": [
      "Child Document: forms of investment. These are: (1) safety of principal and interest;\n",
      "(2) rate of income; (3) convertibility into cash; (4) prospect of\n",
      "appreciation in intrinsic value; (5) stability of market price.\n"
     ]
    }
   ],
   "source": [
    "# 자식 문서 검색\n",
    "query = \"What are the types of investments?\"\n",
    "sub_docs = vectorstore.similarity_search(query)\n",
    "print(f\"Child Document: {sub_docs[0].page_content}\")"
   ]
  },
  {
   "cell_type": "code",
   "execution_count": null,
   "id": "4f817196",
   "metadata": {},
   "outputs": [],
   "source": []
  }
 ],
 "metadata": {
  "colab": {
   "provenance": []
  },
  "kernelspec": {
   "display_name": "Python 3",
   "language": "python",
   "name": "python3"
  },
  "language_info": {
   "codemirror_mode": {
    "name": "ipython",
    "version": 3
   },
   "file_extension": ".py",
   "mimetype": "text/x-python",
   "name": "python",
   "nbconvert_exporter": "python",
   "pygments_lexer": "ipython3",
   "version": "3.11.11"
  }
 },
 "nbformat": 4,
 "nbformat_minor": 5
}
