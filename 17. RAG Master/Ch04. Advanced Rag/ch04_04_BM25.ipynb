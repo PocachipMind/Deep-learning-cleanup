{
 "cells": [
  {
   "cell_type": "code",
   "execution_count": null,
   "id": "cJy1t37GsyL9",
   "metadata": {
    "id": "cJy1t37GsyL9"
   },
   "outputs": [],
   "source": [
    "!pip install pypdf langchain langchain_openai langchain_community kiwipiepy rank_bm25"
   ]
  },
  {
   "cell_type": "code",
   "execution_count": null,
   "id": "4dedc4e3",
   "metadata": {},
   "outputs": [],
   "source": [
    "from google.colab import drive\n",
    "import os\n",
    "\n",
    "# 먼저 구글 드라이브 마운트\n",
    "drive.mount('/content/drive')"
   ]
  },
  {
   "cell_type": "code",
   "execution_count": 2,
   "id": "U3aOf1kttmdQ",
   "metadata": {
    "id": "U3aOf1kttmdQ"
   },
   "outputs": [],
   "source": [
    "import os\n",
    "from dotenv import load_dotenv\n",
    "\n",
    "# .env 파일에서 환경 변수 로드\n",
    "load_dotenv()\n",
    "\n",
    "# 환경 변수에서 API 키 가져오기\n",
    "os.environ[\"OPENAI_API_KEY\"] = os.getenv(\"OPENAI_API_KEY\")"
   ]
  },
  {
   "cell_type": "code",
   "execution_count": 6,
   "id": "u9eVNXBIUTsb",
   "metadata": {
    "id": "u9eVNXBIUTsb"
   },
   "outputs": [],
   "source": [
    "from langchain_community.document_loaders import PyPDFLoader\n",
    "from langchain_text_splitters import RecursiveCharacterTextSplitter\n",
    "\n",
    "file_path = (\n",
    "    \"./Data/투자설명서.pdf\"\n",
    ")\n",
    "loader = PyPDFLoader(file_path)\n",
    "\n",
    "doc_splitter = RecursiveCharacterTextSplitter(chunk_size=2000, chunk_overlap = 200)\n",
    "\n",
    "docs = loader.load_and_split(doc_splitter)"
   ]
  },
  {
   "cell_type": "code",
   "execution_count": 7,
   "id": "urRxIxM3sUcS",
   "metadata": {
    "id": "urRxIxM3sUcS"
   },
   "outputs": [],
   "source": [
    "from langchain_community.retrievers import BM25Retriever\n",
    "from kiwipiepy import Kiwi\n",
    "\n",
    "kiwi_tokenizer = Kiwi()\n",
    "\n",
    "def kiwi_tokenize(text):\n",
    "  return [token.form for token in kiwi_tokenizer.tokenize(text)]"
   ]
  },
  {
   "cell_type": "code",
   "execution_count": 8,
   "id": "HTEw3xniWlyO",
   "metadata": {
    "id": "HTEw3xniWlyO"
   },
   "outputs": [],
   "source": [
    "bm25_retriever = BM25Retriever.from_documents(docs, preprocess_func=kiwi_tokenize)\n",
    "bm25_retriever.k = 2"
   ]
  },
  {
   "cell_type": "code",
   "execution_count": 9,
   "id": "4PFFn4-E6WMm",
   "metadata": {
    "id": "4PFFn4-E6WMm"
   },
   "outputs": [],
   "source": [
    "from langchain.chains import RetrievalQA, ConversationalRetrievalChain\n",
    "from langchain_openai import ChatOpenAI\n",
    "\n",
    "# 관련있는 문서를 수집 후, Chatgpt로 최종 답변까지 수행하는 체인을 생성\n",
    "qa_chain = RetrievalQA.from_chain_type(\n",
    "    llm=ChatOpenAI(temperature=0.2, model=\"gpt-4o\"),\n",
    "    chain_type=\"stuff\",\n",
    "    retriever=bm25_retriever,\n",
    "    return_source_documents=True # 답변에 사용된 source document도 보여주도록 설정\n",
    ")\n"
   ]
  },
  {
   "cell_type": "code",
   "execution_count": 10,
   "id": "rEjxRuJJ6XOt",
   "metadata": {
    "id": "rEjxRuJJ6XOt"
   },
   "outputs": [
    {
     "data": {
      "text/plain": [
       "{'query': '이 회사가 발행한 주식의 총 발행량이 어느정도야?',\n",
       " 'result': '이 회사의 발행주식총수는 13,602,977주입니다.',\n",
       " 'source_documents': [Document(metadata={'producer': 'iText® 5.5.9 ©2000-2015 iText Group NV (AGPL-version)', 'creator': 'PyPDF', 'creationdate': '2024-06-26T16:15:14+09:00', 'moddate': '2024-06-26T16:15:14+09:00', 'source': './Data/투자설명서.pdf', 'total_pages': 514, 'page': 341, 'page_label': '342'}, page_content='당사는 투기적 목적으로 파생금융상품을 포함한 금융상품계약을 체결하거나 거래하지 않습\\n니다. \\n  \\n바. 파생거래 \\n  \\n당사가 2021년 3월 19일에 발행한 제2회 무기명식 무보증 사모 전환사채에는 조기상환청구\\n권(Put option)과 중도상환청구권(Call option)이 포함되어 있습니다. 당분기말 현재 전환사\\n채의 내용은 다음과 같습니다. \\n구 \\xa0분 내역\\n사채의 종류 제2회 무기명식 무보증 사모 전환사채\\n발행가액 (단위: 천원) 19,000,000\\n미상환사채 권면총액 (단위: 천원\\n)(*1) 7,600,000\\n이자지급조건 없음\\n연이자율 0.0%\\n보장수익률 0.0%\\n발행일 2021년 3월 19일\\n상환일 2026년 3월 19일\\n전환청구기간\\n시작일 2022년 3월 19일\\n종료일 2026년 2월 19일\\n전환에 따라\\n발행할 주식\\n종류\\n주식회사 셀리드 기명식 보통주\\n식\\n전환가액(원/주)(*2) 4,515\\n주식수(*2) 1,683,277주\\n전환비율(%) 100\\n전환가액의 조정조건\\n1.본건 전환사채의 전환가액을 하회하는 발행가액, 전환가액 또\\n는 행사가액으로 유상증자 또는 그에 준하는 주식연계증권(전환\\n사채, 신주인수권부 사채 포함)의 발행, 신주인수권 등의 부여 등\\n주식을 인수할 권리를 표창하는 일체의 주식연계증권 등을 발행\\n하는 경우 기타 이와 유사한 상황이 발생하는 경우로서 본건 주\\n식의 지분율이 희석될 수 있는 요인이 발생한 경우\\n2. 발행회사의 주식이 더 많은 수의 주식으로 분할된 경우 또는\\n주식배당이 이루어진 경우, 발행회사의 주식이 더 적은 수의 주\\n식으로 병합된 경우\\n3. 발행회사의 주식이 자본조정, 재분류 기타 사유(제2항에 규정\\n된 주식의 분할 또는 병합은 제외)로 인하여 그 조건 및/또는 수\\n량이 변경되는 경우\\n4.발행회사의 합병, 분할, 분할합병, 포괄적 주식교환, 포괄적 주\\n식이전 및 자본의 감소(통칭하여 “합병 등”)가 이루어지는 경우\\n5.감자 및 주식 병합 등 주식가치 상승사유가 발생하는 경우\\n6. 본건 전환사채 발행일로부터 3개월이 되는 날부터 매 3개월마\\n다 전환가액을 조정하되, 전환가액 조정일 전일을 기산일로 하여\\n기산일부터 소급하여 산정한 산술평균 가액이 직전의 전환가액'),\n",
       "  Document(metadata={'producer': 'iText® 5.5.9 ©2000-2015 iText Group NV (AGPL-version)', 'creator': 'PyPDF', 'creationdate': '2024-06-26T16:15:14+09:00', 'moddate': '2024-06-26T16:15:14+09:00', 'source': './Data/투자설명서.pdf', 'total_pages': 514, 'page': 301, 'page_label': '302'}, page_content='실패하더라도 성실 수행을 입증할 수 있는 경우에는 제제 조치를 면제 받을 수 있으나,\\n불성실 수행으로 연구개발의 결과가 극히 불량하여 최종 평가 시 실패 과제로 결정된\\n경우에는 정부로부터 받은 지원금의 전부 혹은 일부의 환수 또는 향후 정부출연과제\\n참여 제한의 제제 조치가 가해질 수 있습니다.\\n▶동사는 특수관계자와의 거래시 이사회 운영 규정 제10조에 따라 사전에 이사회 결\\n의를 거쳐야 하며, 내부회계 관리 규정 등 동사 내부통제기준에 따라 거래 투명성을 확\\n보하는 등 절차를 준수하고 있습니다. 향후에도 특수관계자와의 거래가 발생하게 될\\n경우 특수관계자에 대한 부당한 이익 제공 등에 해당하지 않는 범위에서 거래가 진행\\n되도록 사전에 내부 규정에 따른 관련 절차를 준수할 예정입니다. 만일 특수관계자와\\n의 거래 조건 등이 제3자와의 거래와 비교하여 적정성이 유지되지 않을 경우 이는 주\\n주의 이익을 침해하는 결과를 초래할 수 있습니다.\\n▶실권주를 인수한 대표주관회사 또는 인수회사가 수익 확정을 위해 인수한 물량을 조\\n기에 장내에서 대량 매도할 경우 일시적 물량 출회에 따른 주가 하락의 가능성이 존재\\n하며, 각 사에서 인수한 실권주를 일정 기간 보유하더라도, 동 인수물량이 잠재 매각물\\n량으로 존재하여 주가 상승에는 부담으로 작용할 가능성이 높습니다. 대표주관회사 및\\n인수회사가 최종 실권주를 인수하게 되면 동사는 실권주 인수금액의 18.0%를 추가수\\n수료로 지급하게 되며, 이를 고려시 대표주관회사 및 인수회사의 실권주 매입단가는\\n청약자들보다 18.0% 낮은 것과 같은 결과가 초래되어 조기에 인수물량을 처분하게 될\\n소지가 높을 것으로 예상되기 때문입니다.\\n▶주식시장의 특성상 향후 주가에 대한 변동성이 있는 관계로 확정발행가액보다 추가\\n상장 후 거래 시점의 주가가 낮아져 투자자에게 금전적 손실을 끼칠 가능성이 존재합\\n니다. 또한 본 유상증자의 발행예정주식수 7,500,000주는 동사 발행주식총수\\n13,602,977주의 55.1%에 해당하는 규모로, 보호예수되지 않아 일시적 물량 출회로\\n인한 주가 하락 위험이 존재합니다. 또한 유상증자 후 주식매수선택권 284,449주는\\n현재 동사 발행주식총수 13,602,977주의 2.1%에 해당하는 규모로, 이 역시 행사가능\\n시기가 도래하면, 시장에 출회될 수 있습니다. 이처럼 주가희석화 및 물량수급의 불균\\n형에 따른 주가하락의 가능성이 존재하므로 투자자의 손실을 초래할 위험이 있습니다.\\n▶ 유상증자 청약에 참여하여 신주를 배정받을 경우, 신주가 상장되어 매매가 가능할\\n때까지 납입주금에 대한 유동성의 제약이 있습니다. 또한 코스닥시장에 추가 상장될\\n때까지 유상증자로 발행되는 신주의 발행가액 수준의 주가가 유지되지 않을 수 있으며\\n, 동사의 내적인 환경변화 또는 시장 전체의 환경 변화 등에 의한 급격한 주가하락이\\n발생할 경우, 투자원금에 대한 손실이 발생할 수 있습니다.\\n▶ 확정발행가액이 당초 계획 대비 하락할 경우에는 동사가 계획했던 공모자금 조달\\n규모가 감소하게 되어, 자금운용계획의 변동이 불가피하며, 동사 영업활동에 차질이\\n생길 수 있습니다.')]}"
      ]
     },
     "execution_count": 10,
     "metadata": {},
     "output_type": "execute_result"
    }
   ],
   "source": [
    "qa_chain.invoke(\"이 회사가 발행한 주식의 총 발행량이 어느정도야?\")"
   ]
  },
  {
   "cell_type": "code",
   "execution_count": null,
   "id": "eb2cf9c0",
   "metadata": {},
   "outputs": [],
   "source": []
  }
 ],
 "metadata": {
  "colab": {
   "provenance": []
  },
  "kernelspec": {
   "display_name": "Python 3",
   "language": "python",
   "name": "python3"
  },
  "language_info": {
   "codemirror_mode": {
    "name": "ipython",
    "version": 3
   },
   "file_extension": ".py",
   "mimetype": "text/x-python",
   "name": "python",
   "nbconvert_exporter": "python",
   "pygments_lexer": "ipython3",
   "version": "3.11.11"
  }
 },
 "nbformat": 4,
 "nbformat_minor": 5
}
