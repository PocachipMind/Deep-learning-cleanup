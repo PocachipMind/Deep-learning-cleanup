{
 "cells": [
  {
   "cell_type": "code",
   "execution_count": null,
   "metadata": {
    "id": "OHFlxxuZVZtW"
   },
   "outputs": [],
   "source": [
    "pip install langchain langchain_openai langchain_community chromadb"
   ]
  },
  {
   "cell_type": "code",
   "execution_count": null,
   "metadata": {},
   "outputs": [],
   "source": [
    "from google.colab import drive\n",
    "import os\n",
    "\n",
    "# 먼저 구글 드라이브 마운트\n",
    "drive.mount('/content/drive')"
   ]
  },
  {
   "cell_type": "code",
   "execution_count": 1,
   "metadata": {
    "id": "FiklTkHWU_t5"
   },
   "outputs": [],
   "source": [
    "import os\n",
    "from dotenv import load_dotenv\n",
    "\n",
    "# .env 파일에서 환경 변수 로드\n",
    "load_dotenv(\"\")\n",
    "\n",
    "# 환경 변수에서 API 키 가져오기\n",
    "os.environ[\"OPENAI_API_KEY\"] = os.getenv(\"OPENAI_API_KEY\")"
   ]
  },
  {
   "cell_type": "code",
   "execution_count": 3,
   "metadata": {
    "id": "autAFd8SpZRf"
   },
   "outputs": [],
   "source": [
    "from langchain_community.vectorstores import Chroma\n",
    "from langchain_openai import OpenAIEmbeddings\n",
    "from langchain_community.document_loaders import TextLoader\n",
    "from langchain_text_splitters import RecursiveCharacterTextSplitter\n",
    "\n",
    "# 문서 로더 설정\n",
    "loaders = [TextLoader(\"./Data/How_to_invest_money.txt\")]\n",
    "\n",
    "docs = []\n",
    "for loader in loaders:\n",
    "    docs.extend(loader.load())\n"
   ]
  },
  {
   "cell_type": "code",
   "execution_count": 4,
   "metadata": {
    "id": "rmbIHqDqWM2j"
   },
   "outputs": [],
   "source": [
    "# 문서 생성을 위한 텍스트 분할기 정의\n",
    "recursive_splitter = RecursiveCharacterTextSplitter(chunk_size=1000, chunk_overlap=200)\n",
    "\n",
    "# 문서 분할\n",
    "split_docs = recursive_splitter.split_documents(docs)\n",
    "\n",
    "# OpenAIEmbeddings 인스턴스 생성\n",
    "embeddings = OpenAIEmbeddings()\n",
    "\n",
    "# Chroma vectorstore 생성\n",
    "vectorstore = Chroma.from_documents(documents=split_docs, embedding=embeddings)\n",
    "\n",
    "# Chroma vectorstore 기반 리트리버 생성\n",
    "retriever = vectorstore.as_retriever()"
   ]
  },
  {
   "cell_type": "code",
   "execution_count": 5,
   "metadata": {
    "id": "LS5FqQo_ZnIg"
   },
   "outputs": [],
   "source": [
    "from langchain_core.output_parsers import StrOutputParser\n",
    "from langchain_core.prompts import ChatPromptTemplate\n",
    "from langchain_openai import ChatOpenAI\n",
    "from langchain_core.runnables import RunnablePassthrough, RunnableLambda\n",
    "from langchain_text_splitters import CharacterTextSplitter\n",
    "\n",
    "\n",
    "# 1. 가상 문서 생성 체인\n",
    "def create_virtual_doc_chain():\n",
    "    system = \"당신은 고도로 숙련된 AI입니다.\"\n",
    "    user = \"\"\"\n",
    "    주어진 질문 '{query}'에 대해 직접적으로 답변하는 가상의 문서를 생성하세요.\n",
    "    문서의 크기는 {chunk_size} 글자 언저리여야 합니다.\n",
    "    \"\"\"\n",
    "    prompt = ChatPromptTemplate.from_messages([\n",
    "        (\"system\", system),\n",
    "        (\"human\", user)\n",
    "    ])\n",
    "    llm = ChatOpenAI(model=\"gpt-4o\", temperature=0.2)\n",
    "    return prompt | llm | StrOutputParser()"
   ]
  },
  {
   "cell_type": "code",
   "execution_count": 6,
   "metadata": {
    "id": "mM2cglOWZoUp"
   },
   "outputs": [],
   "source": [
    "# 2. 문서 검색 체인\n",
    "def create_retrieval_chain():\n",
    "    return RunnableLambda(lambda x: retriever.get_relevant_documents(x['virtual_doc']))\n",
    "\n",
    "# 유틸리티 함수\n",
    "def format_docs(docs):\n",
    "    return \"\\n\\n\".join(doc.page_content for doc in docs)"
   ]
  },
  {
   "cell_type": "code",
   "execution_count": 7,
   "metadata": {
    "id": "5mPFshxLZqFQ"
   },
   "outputs": [],
   "source": [
    "# 3. 최종 응답 생성 체인\n",
    "def create_final_response_chain():\n",
    "    final_prompt = ChatPromptTemplate.from_template(\"\"\"\n",
    "    다음 정보와 질문을 바탕으로 답변해주세요:\n",
    "\n",
    "    컨텍스트: {context}\n",
    "\n",
    "    질문: {question}\n",
    "\n",
    "    답변:\n",
    "    \"\"\")\n",
    "    final_llm = ChatOpenAI(model=\"gpt-4o\", temperature=0.2)\n",
    "    return final_prompt | final_llm"
   ]
  },
  {
   "cell_type": "code",
   "execution_count": 8,
   "metadata": {
    "id": "MDiqFURKVVNE"
   },
   "outputs": [],
   "source": [
    "from langchain_core.runnables import RunnableLambda\n",
    "\n",
    "def print_input_output(input_data, output_data, step_name):\n",
    "    print(f\"\\n--- {step_name} ---\")\n",
    "    print(f\"Input: {input_data}\")\n",
    "    print(f\"Output: {output_data}\")\n",
    "    print(\"-\" * 50)"
   ]
  },
  {
   "cell_type": "code",
   "execution_count": 9,
   "metadata": {
    "id": "qjGXof_qe8qo"
   },
   "outputs": [],
   "source": [
    "def create_pipeline_with_logging():\n",
    "    virtual_doc_chain = create_virtual_doc_chain()\n",
    "    retrieval_chain = create_retrieval_chain()\n",
    "    final_response_chain = create_final_response_chain()\n",
    "\n",
    "    # 가상 문서 생성 단계\n",
    "    def virtual_doc_step(x):\n",
    "        result = {\"virtual_doc\": virtual_doc_chain.invoke({\n",
    "            \"query\": x[\"question\"],\n",
    "            \"chunk_size\": 200\n",
    "        })}\n",
    "        print_input_output(x, result, \"Virtual Doc Generation\")\n",
    "        return {**x, **result}\n",
    "\n",
    "    # 문서 검색 단계\n",
    "    def retrieval_step(x):\n",
    "        result = {\"retrieved_docs\": retrieval_chain.invoke(x)}\n",
    "        print_input_output(x, result, \"Document Retrieval\")\n",
    "        return {**x, **result}\n",
    "\n",
    "    # 컨텍스트 포맷팅 단계\n",
    "    def context_formatting_step(x):\n",
    "        result = {\"context\": format_docs(x[\"retrieved_docs\"])}\n",
    "        print_input_output(x, result, \"Context Formatting\")\n",
    "        return {**x, **result}\n",
    "\n",
    "    # 최종 응답 생성 단계\n",
    "    def final_response_step(x):\n",
    "        result = final_response_chain.invoke(x)\n",
    "        print_input_output(x, result, \"Final Response Generation\")\n",
    "        return result\n",
    "\n",
    "    # 전체 파이프라인 구성\n",
    "    pipeline = (\n",
    "        RunnableLambda(virtual_doc_step)\n",
    "        | RunnableLambda(retrieval_step)\n",
    "        | RunnableLambda(context_formatting_step)\n",
    "        | RunnableLambda(final_response_step)\n",
    "    )\n",
    "\n",
    "    return pipeline\n",
    "\n",
    "# 파이프라인 객체 생성\n",
    "pipeline = create_pipeline_with_logging()"
   ]
  },
  {
   "cell_type": "code",
   "execution_count": 10,
   "metadata": {
    "id": "eRY2tdLkyLTI"
   },
   "outputs": [
    {
     "name": "stdout",
     "output_type": "stream",
     "text": [
      "\n",
      "--- Virtual Doc Generation ---\n",
      "Input: {'question': '주식 시장의 변동성이 높을 때 투자 전략은 무엇인가요?'}\n",
      "Output: {'virtual_doc': '주식 시장의 변동성이 높을 때 투자 전략은 신중한 접근이 필요합니다. 첫째, 포트폴리오를 다각화하여 리스크를 분산시키는 것이 중요합니다. 둘째, 방어주나 배당주와 같은 안정적인 주식에 투자하여 수익을 확보할 수 있습니다. 셋째, 현금을 보유하여 기회를 기다리는 것도 전략 중 하나입니다. 마지막으로, 시장의 변동성을 활용하여 단기 트레이딩을 고려할 수 있지만, 이는 높은 리스크를 동반하므로 주의가 필요합니다. 전문가의 조언을 참고하여 전략을 세우는 것이 바람직합니다.'}\n",
      "--------------------------------------------------\n"
     ]
    },
    {
     "name": "stderr",
     "output_type": "stream",
     "text": [
      "C:\\Users\\User\\AppData\\Local\\Temp\\ipykernel_23504\\1353087294.py:3: LangChainDeprecationWarning: The method `BaseRetriever.get_relevant_documents` was deprecated in langchain-core 0.1.46 and will be removed in 1.0. Use :meth:`~invoke` instead.\n",
      "  return RunnableLambda(lambda x: retriever.get_relevant_documents(x['virtual_doc']))\n"
     ]
    },
    {
     "name": "stdout",
     "output_type": "stream",
     "text": [
      "\n",
      "--- Document Retrieval ---\n",
      "Input: {'question': '주식 시장의 변동성이 높을 때 투자 전략은 무엇인가요?', 'virtual_doc': '주식 시장의 변동성이 높을 때 투자 전략은 신중한 접근이 필요합니다. 첫째, 포트폴리오를 다각화하여 리스크를 분산시키는 것이 중요합니다. 둘째, 방어주나 배당주와 같은 안정적인 주식에 투자하여 수익을 확보할 수 있습니다. 셋째, 현금을 보유하여 기회를 기다리는 것도 전략 중 하나입니다. 마지막으로, 시장의 변동성을 활용하여 단기 트레이딩을 고려할 수 있지만, 이는 높은 리스크를 동반하므로 주의가 필요합니다. 전문가의 조언을 참고하여 전략을 세우는 것이 바람직합니다.'}\n",
      "Output: {'retrieved_docs': [Document(metadata={'source': './Data/How_to_invest_money.txt'}, page_content='After learning how to judge the value of every form of investment, a man\\nmay still be unsuccessful in the investment of money unless he acquires\\nalso a firm grasp upon the general principles which control the price\\nmovements of securities. By this it is not meant that a man needs to\\nhave an intimate knowledge of technical market conditions whereby to\\nestimate temporary fluctations of minor importance, but rather that he\\nshould have clearly in mind the causes which operate to produce the\\nlarger swings of prices. If an investor acquires such a knowledge, he is\\nenabled to take advantage of large price movements in such a way as\\nmaterially to increase his income, and, at the same time, avoid\\ncarrying upon his books securities which may have cost much more than\\ntheir current market quotations. If he can recognize the indications\\nwhich point to the beginning of a pronounced upward swing in securities,\\nand if he can equally recognize the signs which indicate that the'), Document(metadata={'source': './Data/How_to_invest_money.txt'}, page_content='which point to the beginning of a pronounced upward swing in securities,\\nand if he can equally recognize the signs which indicate that the\\nmovement has culminated, he can liquidate the securities which he bought\\nat the inception of the rise or transfer them to some short-term issues\\nwhose near approach to maturity will render them stable in price,\\nallowing the downward swing to proceed without disturbing him. It is not\\nexpected, of course, that the average business man will be able to\\nrealize completely this ideal of investment, but it is hoped that the\\nfollowing analysis will give him a clearer conception of the principles\\ninvolved.'), Document(metadata={'source': './Data/How_to_invest_money.txt'}, page_content='For the successful investment of money, however, a good deal more is\\nrequired than the mere ability to select a safe security. That is only\\none phase of the problem. Scientific investment demands a clear\\nunderstanding of the fundamental distinctions between different classes\\nof securities and strict adherence to the two cardinal principles,\\ndistribution of risk and selection of securities in accordance with\\nreal requirements.'), Document(metadata={'source': './Data/How_to_invest_money.txt'}, page_content=\"Again, some investors are so situated that they can insist strongly upon\\npromise of appreciation in value, while others can not afford to do so.\\nRich men whose income is in excess of their wants, can afford to forego\\nsomething in the way of yearly return for the sake of a strong prospect\\nof appreciation in value. Such men naturally buy bank and trust-company\\nstocks, whose general characteristic is a small return upon the money\\ninvested, but a strong likelihood of appreciation in value. This is\\nowing to the general practise of well-regulated banks to distribute only\\nabout half their earnings in dividends and to credit the rest to\\nsurplus, thus insuring a steady rise in the book value of the stock.\\nRich men, again, can afford to take chances with the quality of safety,\\nfor the sake of greater income, in a way which poor men should never do.\\nIn practise, however, if the writer's observation can be depended upon,\\nit is usually the poor men who take the chances--and lose their money.\")]}\n",
      "--------------------------------------------------\n",
      "\n",
      "--- Context Formatting ---\n",
      "Input: {'question': '주식 시장의 변동성이 높을 때 투자 전략은 무엇인가요?', 'virtual_doc': '주식 시장의 변동성이 높을 때 투자 전략은 신중한 접근이 필요합니다. 첫째, 포트폴리오를 다각화하여 리스크를 분산시키는 것이 중요합니다. 둘째, 방어주나 배당주와 같은 안정적인 주식에 투자하여 수익을 확보할 수 있습니다. 셋째, 현금을 보유하여 기회를 기다리는 것도 전략 중 하나입니다. 마지막으로, 시장의 변동성을 활용하여 단기 트레이딩을 고려할 수 있지만, 이는 높은 리스크를 동반하므로 주의가 필요합니다. 전문가의 조언을 참고하여 전략을 세우는 것이 바람직합니다.', 'retrieved_docs': [Document(metadata={'source': './Data/How_to_invest_money.txt'}, page_content='After learning how to judge the value of every form of investment, a man\\nmay still be unsuccessful in the investment of money unless he acquires\\nalso a firm grasp upon the general principles which control the price\\nmovements of securities. By this it is not meant that a man needs to\\nhave an intimate knowledge of technical market conditions whereby to\\nestimate temporary fluctations of minor importance, but rather that he\\nshould have clearly in mind the causes which operate to produce the\\nlarger swings of prices. If an investor acquires such a knowledge, he is\\nenabled to take advantage of large price movements in such a way as\\nmaterially to increase his income, and, at the same time, avoid\\ncarrying upon his books securities which may have cost much more than\\ntheir current market quotations. If he can recognize the indications\\nwhich point to the beginning of a pronounced upward swing in securities,\\nand if he can equally recognize the signs which indicate that the'), Document(metadata={'source': './Data/How_to_invest_money.txt'}, page_content='which point to the beginning of a pronounced upward swing in securities,\\nand if he can equally recognize the signs which indicate that the\\nmovement has culminated, he can liquidate the securities which he bought\\nat the inception of the rise or transfer them to some short-term issues\\nwhose near approach to maturity will render them stable in price,\\nallowing the downward swing to proceed without disturbing him. It is not\\nexpected, of course, that the average business man will be able to\\nrealize completely this ideal of investment, but it is hoped that the\\nfollowing analysis will give him a clearer conception of the principles\\ninvolved.'), Document(metadata={'source': './Data/How_to_invest_money.txt'}, page_content='For the successful investment of money, however, a good deal more is\\nrequired than the mere ability to select a safe security. That is only\\none phase of the problem. Scientific investment demands a clear\\nunderstanding of the fundamental distinctions between different classes\\nof securities and strict adherence to the two cardinal principles,\\ndistribution of risk and selection of securities in accordance with\\nreal requirements.'), Document(metadata={'source': './Data/How_to_invest_money.txt'}, page_content=\"Again, some investors are so situated that they can insist strongly upon\\npromise of appreciation in value, while others can not afford to do so.\\nRich men whose income is in excess of their wants, can afford to forego\\nsomething in the way of yearly return for the sake of a strong prospect\\nof appreciation in value. Such men naturally buy bank and trust-company\\nstocks, whose general characteristic is a small return upon the money\\ninvested, but a strong likelihood of appreciation in value. This is\\nowing to the general practise of well-regulated banks to distribute only\\nabout half their earnings in dividends and to credit the rest to\\nsurplus, thus insuring a steady rise in the book value of the stock.\\nRich men, again, can afford to take chances with the quality of safety,\\nfor the sake of greater income, in a way which poor men should never do.\\nIn practise, however, if the writer's observation can be depended upon,\\nit is usually the poor men who take the chances--and lose their money.\")]}\n",
      "Output: {'context': \"After learning how to judge the value of every form of investment, a man\\nmay still be unsuccessful in the investment of money unless he acquires\\nalso a firm grasp upon the general principles which control the price\\nmovements of securities. By this it is not meant that a man needs to\\nhave an intimate knowledge of technical market conditions whereby to\\nestimate temporary fluctations of minor importance, but rather that he\\nshould have clearly in mind the causes which operate to produce the\\nlarger swings of prices. If an investor acquires such a knowledge, he is\\nenabled to take advantage of large price movements in such a way as\\nmaterially to increase his income, and, at the same time, avoid\\ncarrying upon his books securities which may have cost much more than\\ntheir current market quotations. If he can recognize the indications\\nwhich point to the beginning of a pronounced upward swing in securities,\\nand if he can equally recognize the signs which indicate that the\\n\\nwhich point to the beginning of a pronounced upward swing in securities,\\nand if he can equally recognize the signs which indicate that the\\nmovement has culminated, he can liquidate the securities which he bought\\nat the inception of the rise or transfer them to some short-term issues\\nwhose near approach to maturity will render them stable in price,\\nallowing the downward swing to proceed without disturbing him. It is not\\nexpected, of course, that the average business man will be able to\\nrealize completely this ideal of investment, but it is hoped that the\\nfollowing analysis will give him a clearer conception of the principles\\ninvolved.\\n\\nFor the successful investment of money, however, a good deal more is\\nrequired than the mere ability to select a safe security. That is only\\none phase of the problem. Scientific investment demands a clear\\nunderstanding of the fundamental distinctions between different classes\\nof securities and strict adherence to the two cardinal principles,\\ndistribution of risk and selection of securities in accordance with\\nreal requirements.\\n\\nAgain, some investors are so situated that they can insist strongly upon\\npromise of appreciation in value, while others can not afford to do so.\\nRich men whose income is in excess of their wants, can afford to forego\\nsomething in the way of yearly return for the sake of a strong prospect\\nof appreciation in value. Such men naturally buy bank and trust-company\\nstocks, whose general characteristic is a small return upon the money\\ninvested, but a strong likelihood of appreciation in value. This is\\nowing to the general practise of well-regulated banks to distribute only\\nabout half their earnings in dividends and to credit the rest to\\nsurplus, thus insuring a steady rise in the book value of the stock.\\nRich men, again, can afford to take chances with the quality of safety,\\nfor the sake of greater income, in a way which poor men should never do.\\nIn practise, however, if the writer's observation can be depended upon,\\nit is usually the poor men who take the chances--and lose their money.\"}\n",
      "--------------------------------------------------\n",
      "\n",
      "--- Final Response Generation ---\n",
      "Input: {'question': '주식 시장의 변동성이 높을 때 투자 전략은 무엇인가요?', 'virtual_doc': '주식 시장의 변동성이 높을 때 투자 전략은 신중한 접근이 필요합니다. 첫째, 포트폴리오를 다각화하여 리스크를 분산시키는 것이 중요합니다. 둘째, 방어주나 배당주와 같은 안정적인 주식에 투자하여 수익을 확보할 수 있습니다. 셋째, 현금을 보유하여 기회를 기다리는 것도 전략 중 하나입니다. 마지막으로, 시장의 변동성을 활용하여 단기 트레이딩을 고려할 수 있지만, 이는 높은 리스크를 동반하므로 주의가 필요합니다. 전문가의 조언을 참고하여 전략을 세우는 것이 바람직합니다.', 'retrieved_docs': [Document(metadata={'source': './Data/How_to_invest_money.txt'}, page_content='After learning how to judge the value of every form of investment, a man\\nmay still be unsuccessful in the investment of money unless he acquires\\nalso a firm grasp upon the general principles which control the price\\nmovements of securities. By this it is not meant that a man needs to\\nhave an intimate knowledge of technical market conditions whereby to\\nestimate temporary fluctations of minor importance, but rather that he\\nshould have clearly in mind the causes which operate to produce the\\nlarger swings of prices. If an investor acquires such a knowledge, he is\\nenabled to take advantage of large price movements in such a way as\\nmaterially to increase his income, and, at the same time, avoid\\ncarrying upon his books securities which may have cost much more than\\ntheir current market quotations. If he can recognize the indications\\nwhich point to the beginning of a pronounced upward swing in securities,\\nand if he can equally recognize the signs which indicate that the'), Document(metadata={'source': './Data/How_to_invest_money.txt'}, page_content='which point to the beginning of a pronounced upward swing in securities,\\nand if he can equally recognize the signs which indicate that the\\nmovement has culminated, he can liquidate the securities which he bought\\nat the inception of the rise or transfer them to some short-term issues\\nwhose near approach to maturity will render them stable in price,\\nallowing the downward swing to proceed without disturbing him. It is not\\nexpected, of course, that the average business man will be able to\\nrealize completely this ideal of investment, but it is hoped that the\\nfollowing analysis will give him a clearer conception of the principles\\ninvolved.'), Document(metadata={'source': './Data/How_to_invest_money.txt'}, page_content='For the successful investment of money, however, a good deal more is\\nrequired than the mere ability to select a safe security. That is only\\none phase of the problem. Scientific investment demands a clear\\nunderstanding of the fundamental distinctions between different classes\\nof securities and strict adherence to the two cardinal principles,\\ndistribution of risk and selection of securities in accordance with\\nreal requirements.'), Document(metadata={'source': './Data/How_to_invest_money.txt'}, page_content=\"Again, some investors are so situated that they can insist strongly upon\\npromise of appreciation in value, while others can not afford to do so.\\nRich men whose income is in excess of their wants, can afford to forego\\nsomething in the way of yearly return for the sake of a strong prospect\\nof appreciation in value. Such men naturally buy bank and trust-company\\nstocks, whose general characteristic is a small return upon the money\\ninvested, but a strong likelihood of appreciation in value. This is\\nowing to the general practise of well-regulated banks to distribute only\\nabout half their earnings in dividends and to credit the rest to\\nsurplus, thus insuring a steady rise in the book value of the stock.\\nRich men, again, can afford to take chances with the quality of safety,\\nfor the sake of greater income, in a way which poor men should never do.\\nIn practise, however, if the writer's observation can be depended upon,\\nit is usually the poor men who take the chances--and lose their money.\")], 'context': \"After learning how to judge the value of every form of investment, a man\\nmay still be unsuccessful in the investment of money unless he acquires\\nalso a firm grasp upon the general principles which control the price\\nmovements of securities. By this it is not meant that a man needs to\\nhave an intimate knowledge of technical market conditions whereby to\\nestimate temporary fluctations of minor importance, but rather that he\\nshould have clearly in mind the causes which operate to produce the\\nlarger swings of prices. If an investor acquires such a knowledge, he is\\nenabled to take advantage of large price movements in such a way as\\nmaterially to increase his income, and, at the same time, avoid\\ncarrying upon his books securities which may have cost much more than\\ntheir current market quotations. If he can recognize the indications\\nwhich point to the beginning of a pronounced upward swing in securities,\\nand if he can equally recognize the signs which indicate that the\\n\\nwhich point to the beginning of a pronounced upward swing in securities,\\nand if he can equally recognize the signs which indicate that the\\nmovement has culminated, he can liquidate the securities which he bought\\nat the inception of the rise or transfer them to some short-term issues\\nwhose near approach to maturity will render them stable in price,\\nallowing the downward swing to proceed without disturbing him. It is not\\nexpected, of course, that the average business man will be able to\\nrealize completely this ideal of investment, but it is hoped that the\\nfollowing analysis will give him a clearer conception of the principles\\ninvolved.\\n\\nFor the successful investment of money, however, a good deal more is\\nrequired than the mere ability to select a safe security. That is only\\none phase of the problem. Scientific investment demands a clear\\nunderstanding of the fundamental distinctions between different classes\\nof securities and strict adherence to the two cardinal principles,\\ndistribution of risk and selection of securities in accordance with\\nreal requirements.\\n\\nAgain, some investors are so situated that they can insist strongly upon\\npromise of appreciation in value, while others can not afford to do so.\\nRich men whose income is in excess of their wants, can afford to forego\\nsomething in the way of yearly return for the sake of a strong prospect\\nof appreciation in value. Such men naturally buy bank and trust-company\\nstocks, whose general characteristic is a small return upon the money\\ninvested, but a strong likelihood of appreciation in value. This is\\nowing to the general practise of well-regulated banks to distribute only\\nabout half their earnings in dividends and to credit the rest to\\nsurplus, thus insuring a steady rise in the book value of the stock.\\nRich men, again, can afford to take chances with the quality of safety,\\nfor the sake of greater income, in a way which poor men should never do.\\nIn practise, however, if the writer's observation can be depended upon,\\nit is usually the poor men who take the chances--and lose their money.\"}\n",
      "Output: content='주식 시장의 변동성이 높을 때 투자 전략은 다음과 같은 요소를 고려해야 합니다:\\n\\n1. **위험 분산**: 변동성이 높은 시장에서는 포트폴리오의 다양화를 통해 위험을 분산시키는 것이 중요합니다. 다양한 산업과 자산군에 투자하여 특정 주식이나 섹터의 급격한 변동에 대한 노출을 줄일 수 있습니다.\\n\\n2. **안정적인 자산 선택**: 변동성이 클 때는 상대적으로 안전하고 안정적인 자산에 투자하는 것이 좋습니다. 예를 들어, 배당을 꾸준히 지급하는 대형 우량주나 채권과 같은 자산이 포함될 수 있습니다.\\n\\n3. **장기적 관점 유지**: 단기적인 시장 변동에 휘둘리지 않고 장기적인 투자 목표를 유지하는 것이 중요합니다. 시장의 일시적인 하락은 장기적으로 회복될 가능성이 높기 때문에, 장기적인 관점에서 투자를 지속하는 것이 유리할 수 있습니다.\\n\\n4. **현금 보유**: 시장의 불확실성이 클 때는 일정 비율의 현금을 보유하여 기회를 기다리는 것도 전략 중 하나입니다. 시장이 안정화되거나 저평가된 자산이 나타날 때 이를 활용할 수 있습니다.\\n\\n5. **기술적 분석과 시장 지표 활용**: 시장의 변동성을 예측하고 대응하기 위해 기술적 분석과 다양한 시장 지표를 활용할 수 있습니다. 이를 통해 시장의 상승 또는 하락 신호를 파악하고 적절한 대응을 할 수 있습니다.\\n\\n6. **감정적 대응 자제**: 변동성이 높은 시장에서는 감정적인 결정이 손실로 이어질 수 있습니다. 냉정하게 시장을 분석하고 계획에 따라 행동하는 것이 중요합니다.\\n\\n이러한 전략들은 시장의 변동성에 대응하는 데 도움을 줄 수 있으며, 투자자가 장기적으로 안정적인 수익을 추구하는 데 기여할 수 있습니다.' additional_kwargs={'refusal': None} response_metadata={'token_usage': {'completion_tokens': 430, 'prompt_tokens': 664, 'total_tokens': 1094, 'completion_tokens_details': {'accepted_prediction_tokens': 0, 'audio_tokens': 0, 'reasoning_tokens': 0, 'rejected_prediction_tokens': 0}, 'prompt_tokens_details': {'audio_tokens': 0, 'cached_tokens': 0}}, 'model_name': 'gpt-4o-2024-08-06', 'system_fingerprint': 'fp_f5bdcc3276', 'finish_reason': 'stop', 'logprobs': None} id='run-8b4e9272-7c6a-4220-9ae9-464e14c82111-0' usage_metadata={'input_tokens': 664, 'output_tokens': 430, 'total_tokens': 1094, 'input_token_details': {'audio': 0, 'cache_read': 0}, 'output_token_details': {'audio': 0, 'reasoning': 0}}\n",
      "--------------------------------------------------\n",
      "최종 답변: 주식 시장의 변동성이 높을 때 투자 전략은 다음과 같은 요소를 고려해야 합니다:\n",
      "\n",
      "1. **위험 분산**: 변동성이 높은 시장에서는 포트폴리오의 다양화를 통해 위험을 분산시키는 것이 중요합니다. 다양한 산업과 자산군에 투자하여 특정 주식이나 섹터의 급격한 변동에 대한 노출을 줄일 수 있습니다.\n",
      "\n",
      "2. **안정적인 자산 선택**: 변동성이 클 때는 상대적으로 안전하고 안정적인 자산에 투자하는 것이 좋습니다. 예를 들어, 배당을 꾸준히 지급하는 대형 우량주나 채권과 같은 자산이 포함될 수 있습니다.\n",
      "\n",
      "3. **장기적 관점 유지**: 단기적인 시장 변동에 휘둘리지 않고 장기적인 투자 목표를 유지하는 것이 중요합니다. 시장의 일시적인 하락은 장기적으로 회복될 가능성이 높기 때문에, 장기적인 관점에서 투자를 지속하는 것이 유리할 수 있습니다.\n",
      "\n",
      "4. **현금 보유**: 시장의 불확실성이 클 때는 일정 비율의 현금을 보유하여 기회를 기다리는 것도 전략 중 하나입니다. 시장이 안정화되거나 저평가된 자산이 나타날 때 이를 활용할 수 있습니다.\n",
      "\n",
      "5. **기술적 분석과 시장 지표 활용**: 시장의 변동성을 예측하고 대응하기 위해 기술적 분석과 다양한 시장 지표를 활용할 수 있습니다. 이를 통해 시장의 상승 또는 하락 신호를 파악하고 적절한 대응을 할 수 있습니다.\n",
      "\n",
      "6. **감정적 대응 자제**: 변동성이 높은 시장에서는 감정적인 결정이 손실로 이어질 수 있습니다. 냉정하게 시장을 분석하고 계획에 따라 행동하는 것이 중요합니다.\n",
      "\n",
      "이러한 전략들은 시장의 변동성에 대응하는 데 도움을 줄 수 있으며, 투자자가 장기적으로 안정적인 수익을 추구하는 데 기여할 수 있습니다.\n"
     ]
    }
   ],
   "source": [
    "# 예시 질문과 답변\n",
    "question = \"주식 시장의 변동성이 높을 때 투자 전략은 무엇인가요?\"\n",
    "response = pipeline.invoke({\"question\": question})\n",
    "print(f\"최종 답변: {response.content}\")"
   ]
  },
  {
   "cell_type": "code",
   "execution_count": null,
   "metadata": {},
   "outputs": [],
   "source": []
  }
 ],
 "metadata": {
  "colab": {
   "authorship_tag": "ABX9TyM8K4G83HrX4KuKmgUo7ZMZ",
   "provenance": []
  },
  "kernelspec": {
   "display_name": "Python 3",
   "name": "python3"
  },
  "language_info": {
   "codemirror_mode": {
    "name": "ipython",
    "version": 3
   },
   "file_extension": ".py",
   "mimetype": "text/x-python",
   "name": "python",
   "nbconvert_exporter": "python",
   "pygments_lexer": "ipython3",
   "version": "3.11.11"
  }
 },
 "nbformat": 4,
 "nbformat_minor": 0
}
