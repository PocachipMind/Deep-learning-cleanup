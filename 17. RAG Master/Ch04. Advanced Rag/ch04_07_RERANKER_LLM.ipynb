{
 "cells": [
  {
   "cell_type": "code",
   "execution_count": null,
   "id": "cJy1t37GsyL9",
   "metadata": {
    "id": "cJy1t37GsyL9"
   },
   "outputs": [],
   "source": [
    "!pip install langchain langchain_openai langchain_community pypdf faiss-cpu"
   ]
  },
  {
   "cell_type": "code",
   "execution_count": null,
   "id": "4c4c609d",
   "metadata": {},
   "outputs": [],
   "source": [
    "from google.colab import drive\n",
    "import os\n",
    "\n",
    "# 먼저 구글 드라이브 마운트\n",
    "drive.mount('/content/drive')"
   ]
  },
  {
   "cell_type": "code",
   "execution_count": 1,
   "id": "U3aOf1kttmdQ",
   "metadata": {
    "id": "U3aOf1kttmdQ"
   },
   "outputs": [],
   "source": [
    "import os\n",
    "from dotenv import load_dotenv\n",
    "\n",
    "# .env 파일에서 환경 변수 로드\n",
    "load_dotenv()\n",
    "\n",
    "# 환경 변수에서 API 키 가져오기\n",
    "os.environ[\"OPENAI_API_KEY\"] = os.getenv(\"OPENAI_API_KEY\")"
   ]
  },
  {
   "cell_type": "code",
   "execution_count": 2,
   "id": "u9eVNXBIUTsb",
   "metadata": {
    "id": "u9eVNXBIUTsb"
   },
   "outputs": [],
   "source": [
    "from langchain_community.document_loaders import PyPDFLoader\n",
    "from langchain_text_splitters import RecursiveCharacterTextSplitter\n",
    "\n",
    "file_path = (\n",
    "    \"./Data/투자설명서.pdf\"\n",
    ")\n",
    "loader = PyPDFLoader(file_path)\n",
    "\n",
    "doc_splitter = RecursiveCharacterTextSplitter(chunk_size=300, chunk_overlap = 100)\n",
    "\n",
    "docs = loader.load_and_split(doc_splitter)"
   ]
  },
  {
   "cell_type": "code",
   "execution_count": 3,
   "id": "th1jORGqyHWR",
   "metadata": {
    "id": "th1jORGqyHWR"
   },
   "outputs": [],
   "source": [
    "from langchain_openai.embeddings import OpenAIEmbeddings\n",
    "\n",
    "# 데이터를 임베딩으로 변환\n",
    "embedding = OpenAIEmbeddings(model=\"text-embedding-3-large\")"
   ]
  },
  {
   "cell_type": "code",
   "execution_count": 4,
   "id": "p3PNlgs44qHB",
   "metadata": {
    "id": "p3PNlgs44qHB"
   },
   "outputs": [],
   "source": [
    "# FAISS 라이브러리 임포트\n",
    "from langchain_community.vectorstores import FAISS\n",
    "\n",
    "# FAISS 벡터스토어 생성\n",
    "faiss_store = FAISS.from_documents(docs, embedding)\n",
    "# FAISS 벡터스토어 저장\n",
    "persist_directory = \"./DB\"\n",
    "faiss_store.save_local(persist_directory)"
   ]
  },
  {
   "cell_type": "code",
   "execution_count": 5,
   "id": "urRxIxM3sUcS",
   "metadata": {
    "id": "urRxIxM3sUcS"
   },
   "outputs": [],
   "source": [
    "# 저장한 FAISS DB 불러오기\n",
    "vectordb = FAISS.load_local(persist_directory, embeddings=embedding, allow_dangerous_deserialization=True)"
   ]
  },
  {
   "cell_type": "code",
   "execution_count": 6,
   "id": "WZ8Fzu2VyoC6",
   "metadata": {
    "id": "WZ8Fzu2VyoC6"
   },
   "outputs": [],
   "source": [
    "from pydantic import BaseModel, Field\n",
    "from langchain import PromptTemplate\n",
    "from langchain.docstore.document import Document\n",
    "from typing import List, Dict, Any, Tuple\n",
    "from langchain_openai import ChatOpenAI\n",
    "from textwrap import dedent\n",
    "from langchain_core.output_parsers import JsonOutputParser"
   ]
  },
  {
   "cell_type": "code",
   "execution_count": 7,
   "id": "5F4CIf3CO0An",
   "metadata": {
    "id": "5F4CIf3CO0An"
   },
   "outputs": [],
   "source": [
    "class RelevanceScore(BaseModel):\n",
    "    relevance_score: float = Field(description=\"문서가 쿼리와 얼마나 관련이 있는지를 나타내는 점수.\")\n",
    "\n",
    "def reranking_documents(query: str, docs: List[Document], top_n: int = 2) -> List[Document]:\n",
    "    parser = JsonOutputParser(pydantic_object=RelevanceScore)\n",
    "    human_message_prompt = PromptTemplate(\n",
    "        template = \"\"\"\n",
    "        1점부터 10점까지 점수를 매겨, 다음 문서가 질문이 얼마나 관련이 있는지 평가해주세요. 단순히 키워드가 일치하는 것이 아니라 쿼리의 구체적인 맥락과 의도를 고려하세요.\n",
    "        {format_instructions}\n",
    "        question: {query}\n",
    "        document: {doc}\n",
    "        relevance_score:\"\"\",\n",
    "        input_variables=[\"query\", \"doc\"],\n",
    "        partial_variables={\"format_instructions\": parser.get_format_instructions()}\n",
    "    )\n",
    "\n",
    "    llm = ChatOpenAI(temperature=0, model_name=\"gpt-4o\", max_tokens=3000)\n",
    "    chain = human_message_prompt | llm | parser\n",
    "    scored_docs = []\n",
    "    for doc in docs:\n",
    "        input_data = {\"query\": query, \"doc\": doc.page_content}\n",
    "        try:\n",
    "            score = chain.invoke(input_data)['relevance_score']\n",
    "            score = float(score)\n",
    "        except Exception as e:\n",
    "            print(f\"오류 발생: {str(e)}\")\n",
    "            default_score = 5  # 기본 점수를 5점으로 설정\n",
    "            print(f\"기본 점수 {default_score}점을 사용합니다.\")\n",
    "            score = default_score\n",
    "        scored_docs.append((doc, score))\n",
    "\n",
    "    reranked_docs = sorted(scored_docs, key=lambda x: x[1], reverse=True)\n",
    "    return [doc for doc, _ in reranked_docs[:top_n]]"
   ]
  },
  {
   "cell_type": "code",
   "execution_count": 8,
   "id": "UVD4UkDUY_-n",
   "metadata": {
    "id": "UVD4UkDUY_-n"
   },
   "outputs": [],
   "source": [
    "query = \"이 회사의 2022년 영업손실이 정확히 얼마야?\"\n",
    "initial_docs = vectordb.similarity_search(query, k=4)\n",
    "reranked_docs = reranking_documents(query, initial_docs)"
   ]
  },
  {
   "cell_type": "code",
   "execution_count": 9,
   "id": "GtjlHUxKIOm4",
   "metadata": {
    "id": "GtjlHUxKIOm4"
   },
   "outputs": [
    {
     "name": "stdout",
     "output_type": "stream",
     "text": [
      "Query: 이 회사의 2022년 영업손실이 정확히 얼마야?\n",
      "\n",
      "\n",
      "Top initial documents:\n",
      "\n",
      "Document 1:\n",
      "이 주요 원인으로 작용하여 당기순손실 228.7억원이 발생하였습니다. \n",
      " \n",
      "이어, 당사는 2023년에는 매출이 발생하지 않았으며, 종업원급여 40.9억원, 유무형자산상각\n",
      "비 26.3억원이 발생하였으며, 연구개발 및 임상시험 지속 과정에서 지급수수료가 30.5억원\n",
      "발생하는 등 총 영업비용 122억원이 발생하였습니다. 이에 2023년 영업손실 122억원이 발\n",
      "생하였으며, 금융손익 및 기타손익 반영 후 당기순손실 116.1억원이 발생하였습니다. 한편,\n",
      "\n",
      "Document 2:\n",
      "이어, 당사는 2022년 GMP시설의 위탁생산계약 매출 약 4.8억원이 발생하였으나, 종업원급\n",
      "여 43.9억원, 유무형자산상각비 25.3억원이 발생하였으며, 연구개발 및 임상시험 지속 과정\n",
      "에서 지급수수료가 54.8억원 발생하는 등 총 영업비용 154억원이 발생하였습니다. 이에\n",
      "2022년 영업손실 149억원이 발생하였으며, 한편, 2022년 5월 금융감독원에서 공표한 '전환\n",
      "사채 콜옵션 회계처리' 감독지침에 따라 당사는 2021년 3월 19일 발행한 제2회 전환사채의\n",
      "\n",
      "Document 3:\n",
      "하여 2021년 영업손실 130.1억원, 2022년 영업손실 149.1억원, 2023년 영업손실 122억원, 2024년\n",
      "1분기 영업손실 24.2억원이 발생하였습니다. 또한 영업 외적 측면에서도, 금융비용 등의 발생 영향\n",
      "으로 인해 2021년 당기순손실 130.7억원, 2022년 당기순손실 228.7억원, 2023년 당기순손실\n",
      "116.1억원, 2024년 1분기 당기순손실 32.9억원이 발생하는 등 지속적인 적자 구조를 면하지 못하고\n",
      "있습니다.따라서 당사의 파이프라인에서 임상 성공을 통한 기술이전, 상품화 성공 등의 성과를 이루\n",
      "\n",
      "Document 4:\n",
      "2020년 11월 GMP 완공에 따라 2021년에는 소모품비 21.8억원, 유무형자산상각비 22.4억\n",
      "원이 발생하였으며, 코로나19 예방백신에 대한 본격적인 연구개발 및 임상시험이 진행됨에\n",
      "따라 지급수수료가 큰 폭으로 증가하며 44억원 발생하는 등 총 영업비용 139억원이 발생하\n",
      "였습니다. 이에 2021년 영업손실 130.1억원이 발생하였으며, 금융손익 및 기타손익 반영 후\n",
      "당기순손실 130.7억원이 발생하였습니다. \n",
      " \n",
      "과  목 2024년 1분기 2023년 1분기 2023년 2022년 2021년\n",
      "매출 315 0 0 480 909\n",
      "\n",
      "\n",
      "Top reranked documents:\n",
      "\n",
      "Document 1:\n",
      "하여 2021년 영업손실 130.1억원, 2022년 영업손실 149.1억원, 2023년 영업손실 122억원, 2024년\n",
      "1분기 영업손실 24.2억원이 발생하였습니다. 또한 영업 외적 측면에서도, 금융비용 등의 발생 영향\n",
      "으로 인해 2021년 당기순손실 130.7억원, 2022년 당기순손실 228.7억원, 2023년 당기순손실\n",
      "116.1억원, 2024년 1분기 당기순손실 32.9억원이 발생하는 등 지속적인 적자 구조를 면하지 못하고\n",
      "있습니다.따라서 당사의 파이프라인에서 임상 성공을 통한 기술이전, 상품화 성공 등의 성과를 이루\n",
      "\n",
      "Document 2:\n",
      "이어, 당사는 2022년 GMP시설의 위탁생산계약 매출 약 4.8억원이 발생하였으나, 종업원급\n",
      "여 43.9억원, 유무형자산상각비 25.3억원이 발생하였으며, 연구개발 및 임상시험 지속 과정\n",
      "에서 지급수수료가 54.8억원 발생하는 등 총 영업비용 154억원이 발생하였습니다. 이에\n",
      "2022년 영업손실 149억원이 발생하였으며, 한편, 2022년 5월 금융감독원에서 공표한 '전환\n",
      "사채 콜옵션 회계처리' 감독지침에 따라 당사는 2021년 3월 19일 발행한 제2회 전환사채의\n"
     ]
    }
   ],
   "source": [
    "# print first 4 initial documents\n",
    "print(f\"Query: {query}\\n\\n\")\n",
    "\n",
    "print(\"Top initial documents:\")\n",
    "for i, doc in enumerate(initial_docs):\n",
    "    print(f\"\\nDocument {i+1}:\")\n",
    "    print(doc.page_content)\n",
    "\n",
    "\n",
    "# Print results\n",
    "print(\"\\n\\nTop reranked documents:\")\n",
    "for i, doc in enumerate(reranked_docs):\n",
    "    print(f\"\\nDocument {i+1}:\")\n",
    "    print(doc.page_content)  # Print first 200 characters of each document"
   ]
  },
  {
   "cell_type": "code",
   "execution_count": 10,
   "id": "UyZZXECAZGsD",
   "metadata": {
    "id": "UyZZXECAZGsD"
   },
   "outputs": [],
   "source": [
    "from langchain_core.retrievers import BaseRetriever\n",
    "from langchain.chains import RetrievalQA"
   ]
  },
  {
   "cell_type": "code",
   "execution_count": 11,
   "id": "cWhNHeVKZLjF",
   "metadata": {
    "id": "cWhNHeVKZLjF"
   },
   "outputs": [
    {
     "name": "stderr",
     "output_type": "stream",
     "text": [
      "C:\\Users\\User\\AppData\\Local\\Temp\\ipykernel_19652\\4046516056.py:2: DeprecationWarning: Retrievers must implement abstract `_get_relevant_documents` method instead of `get_relevant_documents`\n",
      "  class CustomRetriever(BaseRetriever):\n"
     ]
    }
   ],
   "source": [
    "# 커스텀 리트리버 체인을 생성합니다.\n",
    "class CustomRetriever(BaseRetriever):\n",
    "\n",
    "    vectorstore: Any = Field(description=\"Retrival을 위한 벡터스토어\")\n",
    "\n",
    "    class Config:\n",
    "        arbitrary_types_allowed = True\n",
    "\n",
    "    # num_docs 파라미터로 리랭킹 후 반환할 최종 문서의 수를 정의합니다.\n",
    "    def get_relevant_documents(self, query: str, num_docs=2) -> List[Document]:\n",
    "        initial_docs = self.vectorstore.similarity_search(query, k=4)\n",
    "        return reranking_documents(query, initial_docs, top_n=num_docs)"
   ]
  },
  {
   "cell_type": "code",
   "execution_count": 12,
   "id": "98hxT2RvZQKZ",
   "metadata": {
    "id": "98hxT2RvZQKZ"
   },
   "outputs": [],
   "source": [
    "# custom retriever 인스턴스를 생성합니다.\n",
    "custom_retriever = CustomRetriever(vectorstore=vectordb)\n",
    "\n",
    "# 답변용 LLM 인스턴스를 생성합니다.\n",
    "llm = ChatOpenAI(temperature=0.2, model_name=\"gpt-4o\")\n",
    "\n",
    "# RetrievalQA 체인을 생성합니다.\n",
    "qa_chain = RetrievalQA.from_chain_type(\n",
    "    llm=llm,\n",
    "    chain_type=\"stuff\",\n",
    "    retriever=custom_retriever,\n",
    "    return_source_documents=True\n",
    ")"
   ]
  },
  {
   "cell_type": "code",
   "execution_count": 13,
   "id": "lz_suTj0Qyjh",
   "metadata": {
    "id": "lz_suTj0Qyjh"
   },
   "outputs": [
    {
     "data": {
      "text/plain": [
       "{'query': '이 회사의 2022년 영업손실이 정확히 얼마야?',\n",
       " 'result': '2022년 영업손실은 149.1억원입니다.',\n",
       " 'source_documents': [Document(id='a5a19932-03e6-44af-8ca5-cbb368370c9b', metadata={'producer': 'iText® 5.5.9 ©2000-2015 iText Group NV (AGPL-version)', 'creator': 'PyPDF', 'creationdate': '2024-06-26T16:15:14+09:00', 'moddate': '2024-06-26T16:15:14+09:00', 'source': './Data/투자설명서.pdf', 'total_pages': 514, 'page': 158, 'page_label': '159'}, page_content='하여 2021년 영업손실 130.1억원, 2022년 영업손실 149.1억원, 2023년 영업손실 122억원, 2024년\\n1분기 영업손실 24.2억원이 발생하였습니다. 또한 영업 외적 측면에서도, 금융비용 등의 발생 영향\\n으로 인해 2021년 당기순손실 130.7억원, 2022년 당기순손실 228.7억원, 2023년 당기순손실\\n116.1억원, 2024년 1분기 당기순손실 32.9억원이 발생하는 등 지속적인 적자 구조를 면하지 못하고\\n있습니다.따라서 당사의 파이프라인에서 임상 성공을 통한 기술이전, 상품화 성공 등의 성과를 이루'),\n",
       "  Document(id='0448fb1b-066d-407d-9dd6-958fa171ae76', metadata={'producer': 'iText® 5.5.9 ©2000-2015 iText Group NV (AGPL-version)', 'creator': 'PyPDF', 'creationdate': '2024-06-26T16:15:14+09:00', 'moddate': '2024-06-26T16:15:14+09:00', 'source': './Data/투자설명서.pdf', 'total_pages': 514, 'page': 212, 'page_label': '213'}, page_content=\"이어, 당사는 2022년 GMP시설의 위탁생산계약 매출 약 4.8억원이 발생하였으나, 종업원급\\n여 43.9억원, 유무형자산상각비 25.3억원이 발생하였으며, 연구개발 및 임상시험 지속 과정\\n에서 지급수수료가 54.8억원 발생하는 등 총 영업비용 154억원이 발생하였습니다. 이에\\n2022년 영업손실 149억원이 발생하였으며, 한편, 2022년 5월 금융감독원에서 공표한 '전환\\n사채 콜옵션 회계처리' 감독지침에 따라 당사는 2021년 3월 19일 발행한 제2회 전환사채의\")]}"
      ]
     },
     "execution_count": 13,
     "metadata": {},
     "output_type": "execute_result"
    }
   ],
   "source": [
    "qa_chain.invoke(\"이 회사의 2022년 영업손실이 정확히 얼마야?\")"
   ]
  },
  {
   "cell_type": "code",
   "execution_count": null,
   "id": "004dbc85",
   "metadata": {},
   "outputs": [],
   "source": []
  }
 ],
 "metadata": {
  "colab": {
   "provenance": []
  },
  "kernelspec": {
   "display_name": "Python 3",
   "language": "python",
   "name": "python3"
  },
  "language_info": {
   "codemirror_mode": {
    "name": "ipython",
    "version": 3
   },
   "file_extension": ".py",
   "mimetype": "text/x-python",
   "name": "python",
   "nbconvert_exporter": "python",
   "pygments_lexer": "ipython3",
   "version": "3.11.11"
  }
 },
 "nbformat": 4,
 "nbformat_minor": 5
}
