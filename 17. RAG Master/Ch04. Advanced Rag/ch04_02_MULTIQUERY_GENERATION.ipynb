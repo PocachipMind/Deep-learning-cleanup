{
 "cells": [
  {
   "cell_type": "code",
   "execution_count": null,
   "metadata": {
    "id": "OHFlxxuZVZtW"
   },
   "outputs": [],
   "source": [
    "pip install langchain langchain_openai langchain_community chromadb"
   ]
  },
  {
   "cell_type": "code",
   "execution_count": null,
   "metadata": {},
   "outputs": [],
   "source": [
    "from google.colab import drive\n",
    "import os\n",
    "\n",
    "# 먼저 구글 드라이브 마운트\n",
    "drive.mount('/content/drive')"
   ]
  },
  {
   "cell_type": "code",
   "execution_count": 1,
   "metadata": {
    "id": "FiklTkHWU_t5"
   },
   "outputs": [],
   "source": [
    "import os\n",
    "from dotenv import load_dotenv\n",
    "\n",
    "# .env 파일에서 환경 변수 로드\n",
    "load_dotenv(\"\")\n",
    "\n",
    "# 환경 변수에서 API 키 가져오기\n",
    "os.environ[\"OPENAI_API_KEY\"] = os.getenv(\"OPENAI_API_KEY\")\n"
   ]
  },
  {
   "cell_type": "code",
   "execution_count": 7,
   "metadata": {
    "id": "5XrM0dDrVJU5"
   },
   "outputs": [],
   "source": [
    "\n",
    "# 쿼리를 위한 로그 설정\n",
    "import logging\n",
    "\n",
    "logging.basicConfig()\n",
    "logging.getLogger(\"langchain.retrievers.multi_query\").setLevel(logging.INFO)\n"
   ]
  },
  {
   "cell_type": "code",
   "execution_count": 2,
   "metadata": {
    "id": "MBVVBh5mo-xT"
   },
   "outputs": [],
   "source": [
    "from langchain_community.vectorstores import Chroma\n",
    "from langchain_openai import OpenAIEmbeddings\n",
    "from langchain_community.document_loaders import TextLoader\n",
    "from langchain_text_splitters import RecursiveCharacterTextSplitter\n",
    "\n",
    "# 문서 로더 설정\n",
    "loaders = [TextLoader(\"./Data/How_to_invest_money.txt\")]\n",
    "\n",
    "docs = []\n",
    "for loader in loaders:\n",
    "    docs.extend(loader.load())"
   ]
  },
  {
   "cell_type": "code",
   "execution_count": 4,
   "metadata": {
    "id": "rmbIHqDqWM2j"
   },
   "outputs": [],
   "source": [
    "# 문서 생성을 위한 텍스트 분할기 정의\n",
    "recursive_splitter = RecursiveCharacterTextSplitter(chunk_size=1000, chunk_overlap=200)\n",
    "\n",
    "# 문서 분할\n",
    "split_docs = recursive_splitter.split_documents(docs)\n",
    "\n",
    "# OpenAIEmbeddings 인스턴스 생성\n",
    "embeddings = OpenAIEmbeddings()\n",
    "\n",
    "# Chroma vectorstore 생성\n",
    "vectorstore = Chroma.from_documents(documents=split_docs, embedding=embeddings)"
   ]
  },
  {
   "cell_type": "code",
   "execution_count": 5,
   "metadata": {
    "id": "YRTTI4Vfi90e"
   },
   "outputs": [],
   "source": [
    "from langchain.retrievers import MultiQueryRetriever\n",
    "from langchain_openai import ChatOpenAI\n",
    "\n",
    "# LLM 모델 설정 (여기서는 ChatOpenAI 사용)\n",
    "llm = ChatOpenAI(model = \"gpt-4o\",temperature=0.2)\n",
    "\n",
    "# MultiQueryRetriever 실행\n",
    "retriever = MultiQueryRetriever.from_llm(\n",
    "retriever=vectorstore.as_retriever(), # 기본 검색기 (벡터 데이터베이스)\n",
    "llm=llm, # 앞서 정의한 llm (gpt-4o)\n",
    ")"
   ]
  },
  {
   "cell_type": "code",
   "execution_count": 8,
   "metadata": {
    "id": "t-6HAls9iAB1"
   },
   "outputs": [
    {
     "name": "stderr",
     "output_type": "stream",
     "text": [
      "INFO:langchain.retrievers.multi_query:Generated queries: ['1. 주식 투자 초보자가 알아야 할 기본 단계는 무엇인가요?', '2. 주식 투자를 처음 시작할 때 필요한 준비 사항은 무엇인가요?', '3. 주식 투자 입문자를 위한 가이드라인이나 조언이 있나요?']\n"
     ]
    },
    {
     "name": "stdout",
     "output_type": "stream",
     "text": [
      "\n",
      "결과: 6개의 문서가 검색되었습니다.\n"
     ]
    }
   ],
   "source": [
    "# 샘플 질문\n",
    "question = \"주식 투자를 처음 시작하려면 어떻게 해야 하나요?\"\n",
    "\n",
    "# 결과 검색\n",
    "unique_docs = retriever.invoke(question)\n",
    "print(f\"\\n결과: {len(unique_docs)}개의 문서가 검색되었습니다.\")"
   ]
  },
  {
   "cell_type": "code",
   "execution_count": 10,
   "metadata": {},
   "outputs": [
    {
     "data": {
      "text/plain": [
       "[Document(metadata={'source': './Data/How_to_invest_money.txt'}, page_content='G. G. H.\\n\\n\\n\\n\\nHOW TO INVEST MONEY\\n\\n\\n\\n\\nI\\n\\nGENERAL PRINCIPLES OF INVESTMENT'),\n",
       " Document(metadata={'source': './Data/How_to_invest_money.txt'}, page_content='For the successful investment of money, however, a good deal more is\\nrequired than the mere ability to select a safe security. That is only\\none phase of the problem. Scientific investment demands a clear\\nunderstanding of the fundamental distinctions between different classes\\nof securities and strict adherence to the two cardinal principles,\\ndistribution of risk and selection of securities in accordance with\\nreal requirements.'),\n",
       " Document(metadata={'source': './Data/How_to_invest_money.txt'}, page_content='After learning how to judge the value of every form of investment, a man\\nmay still be unsuccessful in the investment of money unless he acquires\\nalso a firm grasp upon the general principles which control the price\\nmovements of securities. By this it is not meant that a man needs to\\nhave an intimate knowledge of technical market conditions whereby to\\nestimate temporary fluctations of minor importance, but rather that he\\nshould have clearly in mind the causes which operate to produce the\\nlarger swings of prices. If an investor acquires such a knowledge, he is\\nenabled to take advantage of large price movements in such a way as\\nmaterially to increase his income, and, at the same time, avoid\\ncarrying upon his books securities which may have cost much more than\\ntheir current market quotations. If he can recognize the indications\\nwhich point to the beginning of a pronounced upward swing in securities,\\nand if he can equally recognize the signs which indicate that the'),\n",
       " Document(metadata={'source': './Data/How_to_invest_money.txt'}, page_content='The foregoing comments, in a brief and imperfect way, serve to indicate\\nthe main points which should be considered in the selection of\\nsecurities for investment. The considerations advanced will be amplified\\nas occasion demands in the following pages. For the present, the main\\nlesson which it is sought to draw is the necessity that a man should\\nhave a thorough understanding of his real requirements before he\\nattempts to make investments. For a private investor to go to a banker\\nand ask him to suggest a security to him without telling him the exact\\nnature of his wants is about as foolish as it would be for a patient to\\ngo to a physician and ask him to give him some medicine without telling\\nhim the symptoms of the trouble which he wished cured. In neither case\\ncan the adviser act intelligently unless he knows what end he is seeking\\nto accomplish.'),\n",
       " Document(metadata={'source': './Data/How_to_invest_money.txt'}, page_content='VIII\\n\\nSTOCKS\\n\\n\\nPassing to the consideration of stocks as investments, it is necessary\\nat the outset that the reader should have clearly in mind the\\nfundamental difference between stocks and bonds. This distinction was\\ndrawn in the introductory chapter, but it will be well to amplify it\\nhere, even at the risk of carrying the reader over familiar ground.'),\n",
       " Document(metadata={'source': './Data/How_to_invest_money.txt'}, page_content=\"The investment of money is a banker's business. When the average man has\\nfunds to invest, whether he be a business man or a pure investor, he\\nshould consult some experienced and reliable investment banker just as\\nhe would consult a doctor or a lawyer if he were in need of medical or\\nlegal advice. This book is not intended to take the place of\\nconsultation with a banker, but to supplement it.\")]"
      ]
     },
     "execution_count": 10,
     "metadata": {},
     "output_type": "execute_result"
    }
   ],
   "source": [
    "unique_docs"
   ]
  },
  {
   "cell_type": "code",
   "execution_count": 9,
   "metadata": {},
   "outputs": [
    {
     "name": "stderr",
     "output_type": "stream",
     "text": [
      "INFO:langchain.retrievers.multi_query:Generated queries: ['1. 주식 투자 초보자가 알아야 할 기본 단계는 무엇인가요?', '2. 주식 투자를 처음 시작할 때 필요한 준비 사항은 무엇인가요?', '3. 주식 투자 입문자를 위한 가이드라인이나 조언이 있나요?']\n"
     ]
    },
    {
     "name": "stdout",
     "output_type": "stream",
     "text": [
      "답변: 주식 투자를 처음 시작하려면 몇 가지 기본적인 단계를 따르는 것이 중요합니다:\n",
      "\n",
      "1. **목표 설정**: 투자 목표를 명확히 하세요. 예를 들어, 장기적인 자산 증식, 단기적인 수익 창출, 은퇴 자금 마련 등 구체적인 목표를 설정하세요.\n",
      "\n",
      "2. **기본 지식 습득**: 주식 시장의 기본 개념과 작동 방식을 이해하세요. 주식과 채권의 차이점, 주식 시장의 작동 원리 등을 배우는 것이 중요합니다.\n",
      "\n",
      "3. **재정 상태 평가**: 자신의 재정 상태를 평가하고, 투자 가능한 금액을 결정하세요. 이는 투자 리스크를 관리하는 데 중요합니다.\n",
      "\n",
      "4. **투자 전략 수립**: 자신의 투자 성향에 맞는 전략을 수립하세요. 예를 들어, 장기 투자, 단기 매매, 배당주 투자 등 다양한 전략이 있습니다.\n",
      "\n",
      "5. **증권 계좌 개설**: 주식을 거래하기 위해 증권 계좌를 개설하세요. 신뢰할 수 있는 증권사를 선택하는 것이 중요합니다.\n",
      "\n",
      "6. **시장 조사 및 분석**: 투자할 기업이나 산업에 대해 철저히 조사하고 분석하세요. 이는 정보에 기반한 결정을 내리는 데 도움을 줍니다.\n",
      "\n",
      "7. **전문가 상담**: 필요하다면 투자 전문가나 금융 고문과 상담하여 조언을 구하세요. 이는 더 나은 투자 결정을 내리는 데 도움이 될 수 있습니다.\n",
      "\n",
      "8. **소액으로 시작**: 처음에는 소액으로 시작하여 경험을 쌓고, 점차 투자 규모를 늘려가는 것이 좋습니다.\n",
      "\n",
      "이러한 단계를 통해 주식 투자를 시작할 수 있으며, 지속적으로 학습하고 시장 변화를 주시하는 것이 중요합니다.\n",
      "\n",
      "사용된 문서:\n",
      "G. G. H.\n",
      "\n",
      "\n",
      "\n",
      "\n",
      "HOW TO INVEST MONEY\n",
      "\n",
      "\n",
      "\n",
      "\n",
      "I\n",
      "\n",
      "GENERAL PRINCIPLES OF INVESTMENT\n",
      "For the successful investment of money, however, a good deal more is\n",
      "required than the mere ability to select a safe security. That is only\n",
      "one phase of the problem. Scientific investment demands a clear\n",
      "understanding of the fundamental distinctions between different classes\n",
      "of securities and strict adherence to the two cardinal principles,\n",
      "distribution of risk and selection of securities in accordance with\n",
      "real requirements.\n",
      "After learning how to judge the value of every form of investment, a man\n",
      "may still be unsuccessful in the investment of money unless he acquires\n",
      "also a firm grasp upon the general principles which control the price\n",
      "movements of securities. By this it is not meant that a man needs to\n",
      "have an intimate knowledge of technical market conditions whereby to\n",
      "estimate temporary fluctations of minor importance, but rather that he\n",
      "should have clearly in mind the causes which operate to produce the\n",
      "larger swings of prices. If an investor acquires such a knowledge, he is\n",
      "enabled to take advantage of large price movements in such a way as\n",
      "materially to increase his income, and, at the same time, avoid\n",
      "carrying upon his books securities which may have cost much more than\n",
      "their current market quotations. If he can recognize the indications\n",
      "which point to the beginning of a pronounced upward swing in securities,\n",
      "and if he can equally recognize the signs which indicate that the\n",
      "The foregoing comments, in a brief and imperfect way, serve to indicate\n",
      "the main points which should be considered in the selection of\n",
      "securities for investment. The considerations advanced will be amplified\n",
      "as occasion demands in the following pages. For the present, the main\n",
      "lesson which it is sought to draw is the necessity that a man should\n",
      "have a thorough understanding of his real requirements before he\n",
      "attempts to make investments. For a private investor to go to a banker\n",
      "and ask him to suggest a security to him without telling him the exact\n",
      "nature of his wants is about as foolish as it would be for a patient to\n",
      "go to a physician and ask him to give him some medicine without telling\n",
      "him the symptoms of the trouble which he wished cured. In neither case\n",
      "can the adviser act intelligently unless he knows what end he is seeking\n",
      "to accomplish.\n",
      "VIII\n",
      "\n",
      "STOCKS\n",
      "\n",
      "\n",
      "Passing to the consideration of stocks as investments, it is necessary\n",
      "at the outset that the reader should have clearly in mind the\n",
      "fundamental difference between stocks and bonds. This distinction was\n",
      "drawn in the introductory chapter, but it will be well to amplify it\n",
      "here, even at the risk of carrying the reader over familiar ground.\n",
      "The investment of money is a banker's business. When the average man has\n",
      "funds to invest, whether he be a business man or a pure investor, he\n",
      "should consult some experienced and reliable investment banker just as\n",
      "he would consult a doctor or a lawyer if he were in need of medical or\n",
      "legal advice. This book is not intended to take the place of\n",
      "consultation with a banker, but to supplement it.\n"
     ]
    }
   ],
   "source": [
    "from langchain.chains import RetrievalQA\n",
    "\n",
    "# RetrievalQA 체인 설정\n",
    "qa_chain = RetrievalQA.from_chain_type(\n",
    "    llm=llm,\n",
    "    chain_type=\"stuff\",\n",
    "    retriever=retriever,\n",
    "    return_source_documents=True\n",
    ")\n",
    "\n",
    "# 질문에 대한 답변 생성\n",
    "result = qa_chain.invoke({\"query\": question})\n",
    "\n",
    "# 결과 출력\n",
    "print(\"답변:\", result[\"result\"])\n",
    "print(\"\\n사용된 문서:\")\n",
    "for doc in result[\"source_documents\"]:\n",
    "    print(doc.page_content)"
   ]
  },
  {
   "cell_type": "code",
   "execution_count": 11,
   "metadata": {},
   "outputs": [
    {
     "data": {
      "text/plain": [
       "{'query': '주식 투자를 처음 시작하려면 어떻게 해야 하나요?',\n",
       " 'result': '주식 투자를 처음 시작하려면 몇 가지 기본적인 단계를 따르는 것이 중요합니다:\\n\\n1. **목표 설정**: 투자 목표를 명확히 하세요. 예를 들어, 장기적인 자산 증식, 단기적인 수익 창출, 은퇴 자금 마련 등 구체적인 목표를 설정하세요.\\n\\n2. **기본 지식 습득**: 주식 시장의 기본 개념과 작동 방식을 이해하세요. 주식과 채권의 차이점, 주식 시장의 작동 원리 등을 배우는 것이 중요합니다.\\n\\n3. **재정 상태 평가**: 자신의 재정 상태를 평가하고, 투자 가능한 금액을 결정하세요. 이는 투자 리스크를 관리하는 데 중요합니다.\\n\\n4. **투자 전략 수립**: 자신의 투자 성향에 맞는 전략을 수립하세요. 예를 들어, 장기 투자, 단기 매매, 배당주 투자 등 다양한 전략이 있습니다.\\n\\n5. **증권 계좌 개설**: 주식을 거래하기 위해 증권 계좌를 개설하세요. 신뢰할 수 있는 증권사를 선택하는 것이 중요합니다.\\n\\n6. **시장 조사 및 분석**: 투자할 기업이나 산업에 대해 철저히 조사하고 분석하세요. 이는 정보에 기반한 결정을 내리는 데 도움을 줍니다.\\n\\n7. **전문가 상담**: 필요하다면 투자 전문가나 금융 고문과 상담하여 조언을 구하세요. 이는 더 나은 투자 결정을 내리는 데 도움이 될 수 있습니다.\\n\\n8. **소액으로 시작**: 처음에는 소액으로 시작하여 경험을 쌓고, 점차 투자 규모를 늘려가는 것이 좋습니다.\\n\\n이러한 단계를 통해 주식 투자를 시작할 수 있으며, 지속적으로 학습하고 시장 변화를 주시하는 것이 중요합니다.',\n",
       " 'source_documents': [Document(metadata={'source': './Data/How_to_invest_money.txt'}, page_content='G. G. H.\\n\\n\\n\\n\\nHOW TO INVEST MONEY\\n\\n\\n\\n\\nI\\n\\nGENERAL PRINCIPLES OF INVESTMENT'),\n",
       "  Document(metadata={'source': './Data/How_to_invest_money.txt'}, page_content='For the successful investment of money, however, a good deal more is\\nrequired than the mere ability to select a safe security. That is only\\none phase of the problem. Scientific investment demands a clear\\nunderstanding of the fundamental distinctions between different classes\\nof securities and strict adherence to the two cardinal principles,\\ndistribution of risk and selection of securities in accordance with\\nreal requirements.'),\n",
       "  Document(metadata={'source': './Data/How_to_invest_money.txt'}, page_content='After learning how to judge the value of every form of investment, a man\\nmay still be unsuccessful in the investment of money unless he acquires\\nalso a firm grasp upon the general principles which control the price\\nmovements of securities. By this it is not meant that a man needs to\\nhave an intimate knowledge of technical market conditions whereby to\\nestimate temporary fluctations of minor importance, but rather that he\\nshould have clearly in mind the causes which operate to produce the\\nlarger swings of prices. If an investor acquires such a knowledge, he is\\nenabled to take advantage of large price movements in such a way as\\nmaterially to increase his income, and, at the same time, avoid\\ncarrying upon his books securities which may have cost much more than\\ntheir current market quotations. If he can recognize the indications\\nwhich point to the beginning of a pronounced upward swing in securities,\\nand if he can equally recognize the signs which indicate that the'),\n",
       "  Document(metadata={'source': './Data/How_to_invest_money.txt'}, page_content='The foregoing comments, in a brief and imperfect way, serve to indicate\\nthe main points which should be considered in the selection of\\nsecurities for investment. The considerations advanced will be amplified\\nas occasion demands in the following pages. For the present, the main\\nlesson which it is sought to draw is the necessity that a man should\\nhave a thorough understanding of his real requirements before he\\nattempts to make investments. For a private investor to go to a banker\\nand ask him to suggest a security to him without telling him the exact\\nnature of his wants is about as foolish as it would be for a patient to\\ngo to a physician and ask him to give him some medicine without telling\\nhim the symptoms of the trouble which he wished cured. In neither case\\ncan the adviser act intelligently unless he knows what end he is seeking\\nto accomplish.'),\n",
       "  Document(metadata={'source': './Data/How_to_invest_money.txt'}, page_content='VIII\\n\\nSTOCKS\\n\\n\\nPassing to the consideration of stocks as investments, it is necessary\\nat the outset that the reader should have clearly in mind the\\nfundamental difference between stocks and bonds. This distinction was\\ndrawn in the introductory chapter, but it will be well to amplify it\\nhere, even at the risk of carrying the reader over familiar ground.'),\n",
       "  Document(metadata={'source': './Data/How_to_invest_money.txt'}, page_content=\"The investment of money is a banker's business. When the average man has\\nfunds to invest, whether he be a business man or a pure investor, he\\nshould consult some experienced and reliable investment banker just as\\nhe would consult a doctor or a lawyer if he were in need of medical or\\nlegal advice. This book is not intended to take the place of\\nconsultation with a banker, but to supplement it.\")]}"
      ]
     },
     "execution_count": 11,
     "metadata": {},
     "output_type": "execute_result"
    }
   ],
   "source": [
    "result"
   ]
  }
 ],
 "metadata": {
  "colab": {
   "authorship_tag": "ABX9TyNR9U1PgXJf+/njvPQoNqO3",
   "provenance": []
  },
  "kernelspec": {
   "display_name": "Python 3",
   "name": "python3"
  },
  "language_info": {
   "codemirror_mode": {
    "name": "ipython",
    "version": 3
   },
   "file_extension": ".py",
   "mimetype": "text/x-python",
   "name": "python",
   "nbconvert_exporter": "python",
   "pygments_lexer": "ipython3",
   "version": "3.11.11"
  }
 },
 "nbformat": 4,
 "nbformat_minor": 0
}
