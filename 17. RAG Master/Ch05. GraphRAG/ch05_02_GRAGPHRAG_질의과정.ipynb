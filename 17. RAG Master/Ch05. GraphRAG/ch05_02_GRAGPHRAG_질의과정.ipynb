{
 "cells": [
  {
   "cell_type": "code",
   "execution_count": null,
   "metadata": {
    "id": "vC1VNMhJfG9z"
   },
   "outputs": [],
   "source": [
    "!pip install graphrag"
   ]
  },
  {
   "cell_type": "code",
   "execution_count": null,
   "metadata": {
    "id": "2zFT1oRovzEi"
   },
   "outputs": [],
   "source": [
    "# 구글 드라이브 마운트\n",
    "from google.colab import drive\n",
    "drive.mount('/content/drive')"
   ]
  },
  {
   "cell_type": "code",
   "execution_count": null,
   "metadata": {
    "id": "BUwKTIHbwInQ"
   },
   "outputs": [
    {
     "name": "stdout",
     "output_type": "stream",
     "text": [
      "현재 작업 디렉토리:\n"
     ]
    },
    {
     "name": "stderr",
     "output_type": "stream",
     "text": [
      "'pwd'��(��) ���� �Ǵ� �ܺ� ����, ������ �� �ִ� ���α׷�, �Ǵ�\n",
      "��ġ ������ �ƴմϴ�.\n"
     ]
    }
   ],
   "source": [
    "# 작업 디렉토리 변경\n",
    "import os\n",
    "os.chdir('./working_directory')\n",
    "\n",
    "# 현재 작업 디렉토리 확인\n",
    "print(\"현재 작업 디렉토리:\") # 리눅스가아니라 VS Code에서 실습중이라 이렇게 나옴.\n",
    "!pwd"
   ]
  },
  {
   "cell_type": "code",
   "execution_count": 3,
   "metadata": {},
   "outputs": [
    {
     "name": "stdout",
     "output_type": "stream",
     "text": [
      "c:\\Users\\User\\Desktop\\DeepLearning\\17��\\langchain-tutorial-main\\Ch05. GraphRAG\\working_directory\n"
     ]
    }
   ],
   "source": [
    "!cd"
   ]
  },
  {
   "cell_type": "markdown",
   "metadata": {
    "id": "Dx2scIHO4GNC"
   },
   "source": [
    "### 1. 포괄적인 질문\n",
    "\"이 문서에서 다루는 주요 투자 수단들의 종류는 무엇인가요?\""
   ]
  },
  {
   "cell_type": "code",
   "execution_count": 3,
   "metadata": {
    "id": "u5l7VrOGxQ2E"
   },
   "outputs": [
    {
     "name": "stdout",
     "output_type": "stream",
     "text": [
      "\n",
      "\n",
      "\n",
      "SUCCESS: Global Search Response:\n",
      "I am sorry but I am unable to answer this question given the provided data.\n"
     ]
    },
    {
     "name": "stderr",
     "output_type": "stream",
     "text": [
      "Warning: All map responses have score 0 (i.e., no relevant information found from the dataset), returning a canned 'I do not know' answer. You can try enabling `allow_general_knowledge` to encourage the LLM to incorporate relevant general knowledge, at the risk of increasing hallucinations.\n"
     ]
    }
   ],
   "source": [
    "# 글로벌 서치\n",
    "!graphrag query \\\n",
    "--root ./ \\\n",
    "--method global \\\n",
    "--query \"채권의 전환성 개념이 각 챕터들에서 어떻게 소개되어있나요?\""
   ]
  },
  {
   "cell_type": "code",
   "execution_count": 4,
   "metadata": {
    "id": "eYcztmFE4bBF"
   },
   "outputs": [
    {
     "name": "stdout",
     "output_type": "stream",
     "text": [
      "\n",
      "\n",
      "\n",
      "INFO: Vector Store Args: {\n",
      "    \"default_vector_store\": {\n",
      "        \"type\": \"lancedb\",\n",
      "        \"db_uri\": \"C:\\\\Users\\\\User\\\\Desktop\\\\DeepLearning\\\\17\\ubc88\\\\langchain-tutorial-main\\\\Ch05. GraphRAG\\\\working_directory\\\\output\\\\lancedb\",\n",
      "        \"url\": null,\n",
      "        \"audience\": null,\n",
      "        \"container_name\": \"==== REDACTED ====\",\n",
      "        \"database_name\": null,\n",
      "        \"overwrite\": true\n",
      "    }\n",
      "}\n",
      "\n",
      "SUCCESS: Local Search Response:\n",
      "죄송합니다만, 제공된 데이터 테이블에는 '채권의 전환성' 개념에 대한 직접적인 정보가 포함되어 있지 않습니다. 데이터는 주로 Project Gutenberg와 관련된 조직, 운영 체계, 법적 프레임워크, 그리고 이 프로젝트의 디지털 도서관 이니셔티브에 초점을 맞추고 있습니다 [Data: Reports (1, 0); Entities (0, 1, 2, 3, 4, 5, 6, 7, 8, 9, 10); Relationships (0, 1, 2, 3, 4, 5, 6, 7, 8, 9, 10, 11, 12)].\n",
      "\n",
      "'채권의 전환성'과 같은 금융이나 투자 관련 개념을 탐색하고자 한다면, 금융 경제학, 투자 분석, 또는 기업 재무 관련 자료를 참고하는 것이 좋습니다. 이러한 주제는 일반적으로 경제학, 금융학, 또는 비즈니스 관련 학문에서 다루며, 전환성 채권, 그 특성, 그리고 이를 활용하는 전략 등에 대해 상세히 설명합니다.\n",
      "\n",
      "전환성 채권은 투자자가 특정 조건 하에 채권을 발행 회사의 주식으로 전환할 수 있는 권리를 가진 채권을 의미합니다. 이는 투자자에게 채권의 안정적인 수익과 주식 투자의 상승 잠재력을 결합한 금융 상품으로, 기업 재무 구조와 투자 전략에 있어 중요한 역할을 할 수 있습니다.\n",
      "\n",
      "이 주제에 대한 더 깊은 이해를 원하신다면, 경제학 또는 금융학 교과서, 학술 논문, 전문가 분석 보고서 등을 참조하시는 것이 좋습니다.\n"
     ]
    }
   ],
   "source": [
    "# 로컬 서치\n",
    "!graphrag query \\\n",
    "--root ./ \\\n",
    "--method local \\\n",
    "--query \"채권의 '전환성' 개념이 각 챕터들에서 어떻게 소개되어있나요?\""
   ]
  },
  {
   "cell_type": "markdown",
   "metadata": {
    "id": "uVFW5XYu_Ua_"
   },
   "source": [
    "### 2. 세부적인 질문\n",
    "\"산업채권 평가시 순유동자산(Net Quick Assets)을 어떻게 분석해야 하나요?\""
   ]
  },
  {
   "cell_type": "code",
   "execution_count": null,
   "metadata": {
    "id": "A5ClcB024dnd"
   },
   "outputs": [],
   "source": [
    "# 글로벌 서치\n",
    "!graphrag query \\\n",
    "--root ./ \\\n",
    "--method global \\\n",
    "--query \"산업채권 평가시 순유동자산(Net Quick Assets)을 어떻게 분석해야 하나요?\""
   ]
  },
  {
   "cell_type": "code",
   "execution_count": null,
   "metadata": {
    "id": "jrniF7tlAEoK"
   },
   "outputs": [],
   "source": [
    "# 로컬 서치\n",
    "!graphrag query \\\n",
    "--root ./ \\\n",
    "--method local \\\n",
    "--query \"산업채권 평가시 순유동자산(Net Quick Assets)을 어떻게 분석해야 하나요?\""
   ]
  }
 ],
 "metadata": {
  "colab": {
   "authorship_tag": "ABX9TyPgQaA8drGYXDONjGnGQExw",
   "provenance": []
  },
  "kernelspec": {
   "display_name": "Python 3",
   "name": "python3"
  },
  "language_info": {
   "codemirror_mode": {
    "name": "ipython",
    "version": 3
   },
   "file_extension": ".py",
   "mimetype": "text/x-python",
   "name": "python",
   "nbconvert_exporter": "python",
   "pygments_lexer": "ipython3",
   "version": "3.11.11"
  }
 },
 "nbformat": 4,
 "nbformat_minor": 0
}
