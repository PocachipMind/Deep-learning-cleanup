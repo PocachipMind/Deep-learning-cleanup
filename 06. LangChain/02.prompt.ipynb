{
 "cells": [
  {
   "cell_type": "code",
   "execution_count": 3,
   "metadata": {},
   "outputs": [
    {
     "data": {
      "text/plain": [
       "AIMessage(content='The capital of France is Paris.', additional_kwargs={}, response_metadata={'model': 'llama3.2:1b', 'created_at': '2025-02-23T06:34:43.5225098Z', 'done': True, 'done_reason': 'stop', 'total_duration': 1389949100, 'load_duration': 1219679100, 'prompt_eval_count': 32, 'prompt_eval_duration': 117000000, 'eval_count': 8, 'eval_duration': 49000000, 'message': Message(role='assistant', content='', images=None, tool_calls=None)}, id='run-2f40f415-7449-4284-846e-d97cac50eb59-0', usage_metadata={'input_tokens': 32, 'output_tokens': 8, 'total_tokens': 40})"
      ]
     },
     "execution_count": 3,
     "metadata": {},
     "output_type": "execute_result"
    }
   ],
   "source": [
    "from langchain_ollama import ChatOllama\n",
    "\n",
    "llm = ChatOllama(model=\"llama3.2:1b\")\n",
    "\n",
    "llm.invoke(\"What is the capital of France?\")"
   ]
  },
  {
   "cell_type": "code",
   "execution_count": 5,
   "metadata": {},
   "outputs": [
    {
     "name": "stdout",
     "output_type": "stream",
     "text": [
      "text='What is the capital of France?'\n"
     ]
    },
    {
     "data": {
      "text/plain": [
       "AIMessage(content='The capital of France is Paris.', additional_kwargs={}, response_metadata={'model': 'llama3.2:1b', 'created_at': '2025-02-23T06:35:26.4536494Z', 'done': True, 'done_reason': 'stop', 'total_duration': 430468600, 'load_duration': 54262900, 'prompt_eval_count': 32, 'prompt_eval_duration': 3000000, 'eval_count': 8, 'eval_duration': 370000000, 'message': Message(role='assistant', content='', images=None, tool_calls=None)}, id='run-b240da6d-4d1a-41da-83f7-24fb74f119a8-0', usage_metadata={'input_tokens': 32, 'output_tokens': 8, 'total_tokens': 40})"
      ]
     },
     "execution_count": 5,
     "metadata": {},
     "output_type": "execute_result"
    }
   ],
   "source": [
    "# 프롬포트 템플릿 쓰기\n",
    "from langchain_core.prompts import PromptTemplate\n",
    "\n",
    "Prompt_Template = PromptTemplate(\n",
    "    template=\"What is the capital of {country}?\",\n",
    "    imput_variables = [\"country\"],\n",
    ")\n",
    "\n",
    "prompt = Prompt_Template.invoke({\"country\": \"France\"})\n",
    "\n",
    "print(prompt)\n",
    "\n",
    "\n",
    "llm = ChatOllama(model=\"llama3.2:1b\")\n",
    "\n",
    "\n",
    "\n",
    "llm.invoke(Prompt_Template.invoke({\"country\": \"France\"}))"
   ]
  },
  {
   "cell_type": "code",
   "execution_count": 6,
   "metadata": {},
   "outputs": [
    {
     "data": {
      "text/plain": [
       "AIMessage(content='The capital of France is Paris.', additional_kwargs={}, response_metadata={'model': 'llama3.2:1b', 'created_at': '2025-02-23T06:39:52.7756128Z', 'done': True, 'done_reason': 'stop', 'total_duration': 421384700, 'load_duration': 54239900, 'prompt_eval_count': 32, 'prompt_eval_duration': 2000000, 'eval_count': 8, 'eval_duration': 363000000, 'message': Message(role='assistant', content='', images=None, tool_calls=None)}, id='run-25fb8415-dcc7-43ed-b9af-5aae06584702-0', usage_metadata={'input_tokens': 32, 'output_tokens': 8, 'total_tokens': 40})"
      ]
     },
     "execution_count": 6,
     "metadata": {},
     "output_type": "execute_result"
    }
   ],
   "source": [
    "# 베이지 메세지 리스트\n",
    "from langchain_core.messages import HumanMessage\n",
    "\n",
    "llm.invoke([HumanMessage(content=\"What is the capital of France?\")])"
   ]
  },
  {
   "cell_type": "code",
   "execution_count": null,
   "metadata": {},
   "outputs": [
    {
     "data": {
      "text/plain": [
       "AIMessage(content='', additional_kwargs={}, response_metadata={'model': 'llama3.2:1b', 'created_at': '2025-02-23T06:44:48.0119626Z', 'done': True, 'done_reason': 'stop', 'total_duration': 1486083300, 'load_duration': 65061000, 'prompt_eval_count': 45, 'prompt_eval_duration': 8000000, 'eval_count': 1, 'eval_duration': 127000000, 'message': Message(role='assistant', content='', images=None, tool_calls=None)}, id='run-6d6f8856-db13-4260-a21e-f4e63c7294f6-0', usage_metadata={'input_tokens': 45, 'output_tokens': 1, 'total_tokens': 46})"
      ]
     },
     "execution_count": 7,
     "metadata": {},
     "output_type": "execute_result"
    }
   ],
   "source": [
    "# 베이지 메세지 리스트 ( 비추 )\n",
    "from langchain_core.messages import HumanMessage, SystemMessage, AIMessage\n",
    "\n",
    "message_list = [\n",
    "    SystemMessage(content=\"You are a helpful assistant!\"),\n",
    "    HumanMessage(content=\"What is the capital of France?\"),\n",
    "    AIMessage(content=\"The capital of France is Paris.\"),\n",
    "    \n",
    "]\n",
    "\n",
    "llm.invoke(message_list)"
   ]
  },
  {
   "cell_type": "code",
   "execution_count": 9,
   "metadata": {},
   "outputs": [
    {
     "name": "stdout",
     "output_type": "stream",
     "text": [
      "messages=[SystemMessage(content='You are a helpful assistant!', additional_kwargs={}, response_metadata={}), HumanMessage(content='What is the capital of France?', additional_kwargs={}, response_metadata={})]\n"
     ]
    }
   ],
   "source": [
    "# 해당 부분을 더 추천함\n",
    "from langchain_core.prompts import ChatPromptTemplate\n",
    "\n",
    "chat_prompt_template = ChatPromptTemplate.from_messages([\n",
    "    (\"system\", \"You are a helpful assistant!\"),\n",
    "    (\"human\", \"What is the capital of {country}?\")\n",
    "])\n",
    "\n",
    "chat_prompt = chat_prompt_template.invoke({\"country\" : \"France\"})\n",
    "\n",
    "print(chat_prompt)"
   ]
  },
  {
   "cell_type": "code",
   "execution_count": 10,
   "metadata": {},
   "outputs": [
    {
     "data": {
      "text/plain": [
       "[SystemMessage(content='You are a helpful assistant!', additional_kwargs={}, response_metadata={}),\n",
       " HumanMessage(content='What is the capital of France?', additional_kwargs={}, response_metadata={})]"
      ]
     },
     "execution_count": 10,
     "metadata": {},
     "output_type": "execute_result"
    }
   ],
   "source": [
    "chat_prompt.messages"
   ]
  },
  {
   "cell_type": "code",
   "execution_count": 11,
   "metadata": {},
   "outputs": [
    {
     "data": {
      "text/plain": [
       "AIMessage(content='The capital of France is Paris.', additional_kwargs={}, response_metadata={'model': 'llama3.2:1b', 'created_at': '2025-02-23T06:48:13.8289158Z', 'done': True, 'done_reason': 'stop', 'total_duration': 305783700, 'load_duration': 50223200, 'prompt_eval_count': 38, 'prompt_eval_duration': 2000000, 'eval_count': 8, 'eval_duration': 251000000, 'message': Message(role='assistant', content='', images=None, tool_calls=None)}, id='run-2891a3ba-2634-4ae3-818c-f82810b3eb02-0', usage_metadata={'input_tokens': 38, 'output_tokens': 8, 'total_tokens': 46})"
      ]
     },
     "execution_count": 11,
     "metadata": {},
     "output_type": "execute_result"
    }
   ],
   "source": [
    "llm.invoke(chat_prompt)"
   ]
  },
  {
   "cell_type": "code",
   "execution_count": null,
   "metadata": {},
   "outputs": [],
   "source": []
  }
 ],
 "metadata": {
  "kernelspec": {
   "display_name": "Langchain",
   "language": "python",
   "name": "python3"
  },
  "language_info": {
   "codemirror_mode": {
    "name": "ipython",
    "version": 3
   },
   "file_extension": ".py",
   "mimetype": "text/x-python",
   "name": "python",
   "nbconvert_exporter": "python",
   "pygments_lexer": "ipython3",
   "version": "3.11.11"
  }
 },
 "nbformat": 4,
 "nbformat_minor": 2
}
