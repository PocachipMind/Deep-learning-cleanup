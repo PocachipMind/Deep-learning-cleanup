{
 "cells": [
  {
   "cell_type": "code",
   "execution_count": 2,
   "id": "4e809c1c",
   "metadata": {
    "ExecuteTime": {
     "end_time": "2021-12-28T13:38:31.233460Z",
     "start_time": "2021-12-28T13:38:31.225187Z"
    }
   },
   "outputs": [
    {
     "data": {
      "text/plain": [
       "'2021-01-11'"
      ]
     },
     "execution_count": 2,
     "metadata": {},
     "output_type": "execute_result"
    }
   ],
   "source": [
    "import pandas as pd\n",
    "\n",
    "samsung_price = pd.read_csv('../Data/삼성전자 종가.csv', index_col = 0, header = 0)\n",
    "samsung_price = samsung_price.squeeze()\n",
    "\n",
    "samsung_price.index[samsung_price.max() == samsung_price.values][0]"
   ]
  },
  {
   "cell_type": "code",
   "execution_count": 3,
   "id": "b2176186",
   "metadata": {
    "ExecuteTime": {
     "end_time": "2021-12-28T13:15:43.862353Z",
     "start_time": "2021-12-28T13:15:43.855197Z"
    }
   },
   "outputs": [],
   "source": [
    "import numpy as np"
   ]
  },
  {
   "cell_type": "code",
   "execution_count": 8,
   "id": "fe4d8199",
   "metadata": {
    "ExecuteTime": {
     "end_time": "2021-12-28T13:17:15.744689Z",
     "start_time": "2021-12-28T13:17:15.727696Z"
    }
   },
   "outputs": [
    {
     "data": {
      "text/plain": [
       "1"
      ]
     },
     "execution_count": 8,
     "metadata": {},
     "output_type": "execute_result"
    }
   ],
   "source": [
    "ls = [1,2,3,4]\n",
    "ls\n",
    "ls[0]"
   ]
  },
  {
   "cell_type": "code",
   "execution_count": 11,
   "id": "5316aabc",
   "metadata": {
    "ExecuteTime": {
     "end_time": "2021-12-28T13:17:46.363732Z",
     "start_time": "2021-12-28T13:17:46.359167Z"
    }
   },
   "outputs": [
    {
     "data": {
      "text/plain": [
       "(2, 4)"
      ]
     },
     "execution_count": 11,
     "metadata": {},
     "output_type": "execute_result"
    }
   ],
   "source": [
    "arr = np.array([1,2,3,4])\n",
    "arr\n",
    "arr[0]\n",
    "\n",
    "arr2 = np.array([[1,2,3,4],[5,6,7,8]])\n",
    "arr2\n",
    "arr2.shape\n"
   ]
  },
  {
   "cell_type": "code",
   "execution_count": 12,
   "id": "a079af58",
   "metadata": {
    "ExecuteTime": {
     "end_time": "2021-12-28T13:17:56.524092Z",
     "start_time": "2021-12-28T13:17:56.505354Z"
    }
   },
   "outputs": [
    {
     "data": {
      "text/plain": [
       "array([[1, 2, 3, 4],\n",
       "       [5, 6, 7, 8]])"
      ]
     },
     "execution_count": 12,
     "metadata": {},
     "output_type": "execute_result"
    }
   ],
   "source": [
    "arr2"
   ]
  },
  {
   "cell_type": "code",
   "execution_count": 25,
   "id": "4459f5ae",
   "metadata": {
    "ExecuteTime": {
     "end_time": "2021-12-28T13:21:26.231719Z",
     "start_time": "2021-12-28T13:21:26.224801Z"
    }
   },
   "outputs": [
    {
     "data": {
      "text/plain": [
       "2"
      ]
     },
     "execution_count": 25,
     "metadata": {},
     "output_type": "execute_result"
    }
   ],
   "source": [
    "arr[1]"
   ]
  },
  {
   "cell_type": "code",
   "execution_count": 40,
   "id": "62d9d46f",
   "metadata": {
    "ExecuteTime": {
     "end_time": "2021-12-28T13:42:03.794928Z",
     "start_time": "2021-12-28T13:42:03.779789Z"
    }
   },
   "outputs": [
    {
     "data": {
      "text/plain": [
       "array([[2, 3],\n",
       "       [3, 6]])"
      ]
     },
     "execution_count": 40,
     "metadata": {},
     "output_type": "execute_result"
    }
   ],
   "source": [
    "arr3 = np.array([[1,2], [2,5]])\n",
    "\n",
    "arr3 + 1"
   ]
  },
  {
   "cell_type": "code",
   "execution_count": 41,
   "id": "1f221088",
   "metadata": {
    "ExecuteTime": {
     "end_time": "2021-12-28T13:43:12.607345Z",
     "start_time": "2021-12-28T13:43:12.594473Z"
    }
   },
   "outputs": [
    {
     "data": {
      "text/plain": [
       "array([[10, 20],\n",
       "       [20, 50]])"
      ]
     },
     "execution_count": 41,
     "metadata": {},
     "output_type": "execute_result"
    }
   ],
   "source": [
    "arr3 * 10"
   ]
  },
  {
   "cell_type": "code",
   "execution_count": 43,
   "id": "c339c3b7",
   "metadata": {
    "ExecuteTime": {
     "end_time": "2021-12-28T13:48:05.060427Z",
     "start_time": "2021-12-28T13:48:05.045313Z"
    }
   },
   "outputs": [
    {
     "data": {
      "text/plain": [
       "Date\n",
       "2018-01-02    5102000\n",
       "2018-01-03    5162000\n",
       "2018-01-04    5108000\n",
       "2018-01-05    5212000\n",
       "2018-01-08    5202000\n",
       "               ...   \n",
       "2021-12-13    7680000\n",
       "2021-12-14    7700000\n",
       "2021-12-15    7760000\n",
       "2021-12-16    7780000\n",
       "2021-12-17    7800000\n",
       "Name: Close, Length: 977, dtype: int64"
      ]
     },
     "execution_count": 43,
     "metadata": {},
     "output_type": "execute_result"
    }
   ],
   "source": [
    "samsung_price*100"
   ]
  },
  {
   "cell_type": "code",
   "execution_count": null,
   "id": "0def2c65",
   "metadata": {},
   "outputs": [],
   "source": []
  }
 ],
 "metadata": {
  "hide_input": false,
  "kernelspec": {
   "display_name": "Python 3",
   "language": "python",
   "name": "python3"
  },
  "language_info": {
   "codemirror_mode": {
    "name": "ipython",
    "version": 3
   },
   "file_extension": ".py",
   "mimetype": "text/x-python",
   "name": "python",
   "nbconvert_exporter": "python",
   "pygments_lexer": "ipython3",
   "version": "3.11.11"
  },
  "toc": {
   "base_numbering": 1,
   "nav_menu": {},
   "number_sections": true,
   "sideBar": true,
   "skip_h1_title": false,
   "title_cell": "Table of Contents",
   "title_sidebar": "Contents",
   "toc_cell": false,
   "toc_position": {},
   "toc_section_display": true,
   "toc_window_display": false
  },
  "varInspector": {
   "cols": {
    "lenName": 16,
    "lenType": 16,
    "lenVar": 40
   },
   "kernels_config": {
    "python": {
     "delete_cmd_postfix": "",
     "delete_cmd_prefix": "del ",
     "library": "var_list.py",
     "varRefreshCmd": "print(var_dic_list())"
    },
    "r": {
     "delete_cmd_postfix": ") ",
     "delete_cmd_prefix": "rm(",
     "library": "var_list.r",
     "varRefreshCmd": "cat(var_dic_list()) "
    }
   },
   "types_to_exclude": [
    "module",
    "function",
    "builtin_function_or_method",
    "instance",
    "_Feature"
   ],
   "window_display": false
  }
 },
 "nbformat": 4,
 "nbformat_minor": 5
}
